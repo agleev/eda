{
 "cells": [
  {
   "cell_type": "code",
   "execution_count": 1,
   "id": "e96a78b7",
   "metadata": {
    "execution": {
     "iopub.execute_input": "2021-12-08T15:18:37.237572Z",
     "iopub.status.busy": "2021-12-08T15:18:37.236363Z",
     "iopub.status.idle": "2021-12-08T15:18:38.384023Z",
     "shell.execute_reply": "2021-12-08T15:18:38.383026Z",
     "shell.execute_reply.started": "2021-11-12T14:50:22.512342Z"
    },
    "papermill": {
     "duration": 1.21457,
     "end_time": "2021-12-08T15:18:38.384311",
     "exception": false,
     "start_time": "2021-12-08T15:18:37.169741",
     "status": "completed"
    },
    "tags": []
   },
   "outputs": [],
   "source": [
    "import pandas as pd\n",
    "import numpy as np\n",
    "import seaborn as sns\n",
    "import matplotlib.pyplot as plt\n",
    "\n",
    "from statistics import mode\n",
    "from sklearn.model_selection import train_test_split\n",
    "from sklearn.preprocessing import LabelEncoder\n",
    "from sklearn.preprocessing import StandardScaler\n",
    "from sklearn.preprocessing import MinMaxScaler"
   ]
  },
  {
   "cell_type": "code",
   "execution_count": 2,
   "id": "64f8c35e",
   "metadata": {
    "execution": {
     "iopub.execute_input": "2021-12-08T15:18:38.585919Z",
     "iopub.status.busy": "2021-12-08T15:18:38.584981Z",
     "iopub.status.idle": "2021-12-08T15:18:38.591202Z",
     "shell.execute_reply": "2021-12-08T15:18:38.591743Z",
     "shell.execute_reply.started": "2021-11-12T14:50:22.526301Z"
    },
    "papermill": {
     "duration": 0.110349,
     "end_time": "2021-12-08T15:18:38.591940",
     "exception": false,
     "start_time": "2021-12-08T15:18:38.481591",
     "status": "completed"
    },
    "tags": []
   },
   "outputs": [
    {
     "name": "stdout",
     "output_type": "stream",
     "text": [
      "/kaggle/input/house-prices-advanced-regression-techniques/sample_submission.csv\n",
      "/kaggle/input/house-prices-advanced-regression-techniques/data_description.txt\n",
      "/kaggle/input/house-prices-advanced-regression-techniques/train.csv\n",
      "/kaggle/input/house-prices-advanced-regression-techniques/test.csv\n"
     ]
    }
   ],
   "source": [
    "import os\n",
    "for dirname, _, filenames in os.walk('/kaggle/input'):\n",
    "    for filename in filenames:\n",
    "        print(os.path.join(dirname, filename))"
   ]
  },
  {
   "cell_type": "code",
   "execution_count": 3,
   "id": "67000b0c",
   "metadata": {
    "execution": {
     "iopub.execute_input": "2021-12-08T15:18:38.817612Z",
     "iopub.status.busy": "2021-12-08T15:18:38.816915Z",
     "iopub.status.idle": "2021-12-08T15:18:38.859420Z",
     "shell.execute_reply": "2021-12-08T15:18:38.860236Z",
     "shell.execute_reply.started": "2021-11-12T14:50:22.537401Z"
    },
    "papermill": {
     "duration": 0.18734,
     "end_time": "2021-12-08T15:18:38.860523",
     "exception": false,
     "start_time": "2021-12-08T15:18:38.673183",
     "status": "completed"
    },
    "tags": []
   },
   "outputs": [],
   "source": [
    "data = pd.read_csv('/kaggle/input/house-prices-advanced-regression-techniques/train.csv')"
   ]
  },
  {
   "cell_type": "code",
   "execution_count": 4,
   "id": "9147d7ae",
   "metadata": {
    "execution": {
     "iopub.execute_input": "2021-12-08T15:18:39.003710Z",
     "iopub.status.busy": "2021-12-08T15:18:39.002640Z",
     "iopub.status.idle": "2021-12-08T15:18:39.045886Z",
     "shell.execute_reply": "2021-12-08T15:18:39.046404Z",
     "shell.execute_reply.started": "2021-11-12T14:50:22.569608Z"
    },
    "papermill": {
     "duration": 0.112224,
     "end_time": "2021-12-08T15:18:39.046580",
     "exception": false,
     "start_time": "2021-12-08T15:18:38.934356",
     "status": "completed"
    },
    "tags": []
   },
   "outputs": [
    {
     "data": {
      "text/html": [
       "<div>\n",
       "<style scoped>\n",
       "    .dataframe tbody tr th:only-of-type {\n",
       "        vertical-align: middle;\n",
       "    }\n",
       "\n",
       "    .dataframe tbody tr th {\n",
       "        vertical-align: top;\n",
       "    }\n",
       "\n",
       "    .dataframe thead th {\n",
       "        text-align: right;\n",
       "    }\n",
       "</style>\n",
       "<table border=\"1\" class=\"dataframe\">\n",
       "  <thead>\n",
       "    <tr style=\"text-align: right;\">\n",
       "      <th></th>\n",
       "      <th>Id</th>\n",
       "      <th>MSSubClass</th>\n",
       "      <th>MSZoning</th>\n",
       "      <th>LotFrontage</th>\n",
       "      <th>LotArea</th>\n",
       "      <th>Street</th>\n",
       "      <th>Alley</th>\n",
       "      <th>LotShape</th>\n",
       "      <th>LandContour</th>\n",
       "      <th>Utilities</th>\n",
       "      <th>...</th>\n",
       "      <th>PoolArea</th>\n",
       "      <th>PoolQC</th>\n",
       "      <th>Fence</th>\n",
       "      <th>MiscFeature</th>\n",
       "      <th>MiscVal</th>\n",
       "      <th>MoSold</th>\n",
       "      <th>YrSold</th>\n",
       "      <th>SaleType</th>\n",
       "      <th>SaleCondition</th>\n",
       "      <th>SalePrice</th>\n",
       "    </tr>\n",
       "  </thead>\n",
       "  <tbody>\n",
       "    <tr>\n",
       "      <th>0</th>\n",
       "      <td>1</td>\n",
       "      <td>60</td>\n",
       "      <td>RL</td>\n",
       "      <td>65.0</td>\n",
       "      <td>8450</td>\n",
       "      <td>Pave</td>\n",
       "      <td>NaN</td>\n",
       "      <td>Reg</td>\n",
       "      <td>Lvl</td>\n",
       "      <td>AllPub</td>\n",
       "      <td>...</td>\n",
       "      <td>0</td>\n",
       "      <td>NaN</td>\n",
       "      <td>NaN</td>\n",
       "      <td>NaN</td>\n",
       "      <td>0</td>\n",
       "      <td>2</td>\n",
       "      <td>2008</td>\n",
       "      <td>WD</td>\n",
       "      <td>Normal</td>\n",
       "      <td>208500</td>\n",
       "    </tr>\n",
       "    <tr>\n",
       "      <th>1</th>\n",
       "      <td>2</td>\n",
       "      <td>20</td>\n",
       "      <td>RL</td>\n",
       "      <td>80.0</td>\n",
       "      <td>9600</td>\n",
       "      <td>Pave</td>\n",
       "      <td>NaN</td>\n",
       "      <td>Reg</td>\n",
       "      <td>Lvl</td>\n",
       "      <td>AllPub</td>\n",
       "      <td>...</td>\n",
       "      <td>0</td>\n",
       "      <td>NaN</td>\n",
       "      <td>NaN</td>\n",
       "      <td>NaN</td>\n",
       "      <td>0</td>\n",
       "      <td>5</td>\n",
       "      <td>2007</td>\n",
       "      <td>WD</td>\n",
       "      <td>Normal</td>\n",
       "      <td>181500</td>\n",
       "    </tr>\n",
       "    <tr>\n",
       "      <th>2</th>\n",
       "      <td>3</td>\n",
       "      <td>60</td>\n",
       "      <td>RL</td>\n",
       "      <td>68.0</td>\n",
       "      <td>11250</td>\n",
       "      <td>Pave</td>\n",
       "      <td>NaN</td>\n",
       "      <td>IR1</td>\n",
       "      <td>Lvl</td>\n",
       "      <td>AllPub</td>\n",
       "      <td>...</td>\n",
       "      <td>0</td>\n",
       "      <td>NaN</td>\n",
       "      <td>NaN</td>\n",
       "      <td>NaN</td>\n",
       "      <td>0</td>\n",
       "      <td>9</td>\n",
       "      <td>2008</td>\n",
       "      <td>WD</td>\n",
       "      <td>Normal</td>\n",
       "      <td>223500</td>\n",
       "    </tr>\n",
       "    <tr>\n",
       "      <th>3</th>\n",
       "      <td>4</td>\n",
       "      <td>70</td>\n",
       "      <td>RL</td>\n",
       "      <td>60.0</td>\n",
       "      <td>9550</td>\n",
       "      <td>Pave</td>\n",
       "      <td>NaN</td>\n",
       "      <td>IR1</td>\n",
       "      <td>Lvl</td>\n",
       "      <td>AllPub</td>\n",
       "      <td>...</td>\n",
       "      <td>0</td>\n",
       "      <td>NaN</td>\n",
       "      <td>NaN</td>\n",
       "      <td>NaN</td>\n",
       "      <td>0</td>\n",
       "      <td>2</td>\n",
       "      <td>2006</td>\n",
       "      <td>WD</td>\n",
       "      <td>Abnorml</td>\n",
       "      <td>140000</td>\n",
       "    </tr>\n",
       "    <tr>\n",
       "      <th>4</th>\n",
       "      <td>5</td>\n",
       "      <td>60</td>\n",
       "      <td>RL</td>\n",
       "      <td>84.0</td>\n",
       "      <td>14260</td>\n",
       "      <td>Pave</td>\n",
       "      <td>NaN</td>\n",
       "      <td>IR1</td>\n",
       "      <td>Lvl</td>\n",
       "      <td>AllPub</td>\n",
       "      <td>...</td>\n",
       "      <td>0</td>\n",
       "      <td>NaN</td>\n",
       "      <td>NaN</td>\n",
       "      <td>NaN</td>\n",
       "      <td>0</td>\n",
       "      <td>12</td>\n",
       "      <td>2008</td>\n",
       "      <td>WD</td>\n",
       "      <td>Normal</td>\n",
       "      <td>250000</td>\n",
       "    </tr>\n",
       "    <tr>\n",
       "      <th>...</th>\n",
       "      <td>...</td>\n",
       "      <td>...</td>\n",
       "      <td>...</td>\n",
       "      <td>...</td>\n",
       "      <td>...</td>\n",
       "      <td>...</td>\n",
       "      <td>...</td>\n",
       "      <td>...</td>\n",
       "      <td>...</td>\n",
       "      <td>...</td>\n",
       "      <td>...</td>\n",
       "      <td>...</td>\n",
       "      <td>...</td>\n",
       "      <td>...</td>\n",
       "      <td>...</td>\n",
       "      <td>...</td>\n",
       "      <td>...</td>\n",
       "      <td>...</td>\n",
       "      <td>...</td>\n",
       "      <td>...</td>\n",
       "      <td>...</td>\n",
       "    </tr>\n",
       "    <tr>\n",
       "      <th>1455</th>\n",
       "      <td>1456</td>\n",
       "      <td>60</td>\n",
       "      <td>RL</td>\n",
       "      <td>62.0</td>\n",
       "      <td>7917</td>\n",
       "      <td>Pave</td>\n",
       "      <td>NaN</td>\n",
       "      <td>Reg</td>\n",
       "      <td>Lvl</td>\n",
       "      <td>AllPub</td>\n",
       "      <td>...</td>\n",
       "      <td>0</td>\n",
       "      <td>NaN</td>\n",
       "      <td>NaN</td>\n",
       "      <td>NaN</td>\n",
       "      <td>0</td>\n",
       "      <td>8</td>\n",
       "      <td>2007</td>\n",
       "      <td>WD</td>\n",
       "      <td>Normal</td>\n",
       "      <td>175000</td>\n",
       "    </tr>\n",
       "    <tr>\n",
       "      <th>1456</th>\n",
       "      <td>1457</td>\n",
       "      <td>20</td>\n",
       "      <td>RL</td>\n",
       "      <td>85.0</td>\n",
       "      <td>13175</td>\n",
       "      <td>Pave</td>\n",
       "      <td>NaN</td>\n",
       "      <td>Reg</td>\n",
       "      <td>Lvl</td>\n",
       "      <td>AllPub</td>\n",
       "      <td>...</td>\n",
       "      <td>0</td>\n",
       "      <td>NaN</td>\n",
       "      <td>MnPrv</td>\n",
       "      <td>NaN</td>\n",
       "      <td>0</td>\n",
       "      <td>2</td>\n",
       "      <td>2010</td>\n",
       "      <td>WD</td>\n",
       "      <td>Normal</td>\n",
       "      <td>210000</td>\n",
       "    </tr>\n",
       "    <tr>\n",
       "      <th>1457</th>\n",
       "      <td>1458</td>\n",
       "      <td>70</td>\n",
       "      <td>RL</td>\n",
       "      <td>66.0</td>\n",
       "      <td>9042</td>\n",
       "      <td>Pave</td>\n",
       "      <td>NaN</td>\n",
       "      <td>Reg</td>\n",
       "      <td>Lvl</td>\n",
       "      <td>AllPub</td>\n",
       "      <td>...</td>\n",
       "      <td>0</td>\n",
       "      <td>NaN</td>\n",
       "      <td>GdPrv</td>\n",
       "      <td>Shed</td>\n",
       "      <td>2500</td>\n",
       "      <td>5</td>\n",
       "      <td>2010</td>\n",
       "      <td>WD</td>\n",
       "      <td>Normal</td>\n",
       "      <td>266500</td>\n",
       "    </tr>\n",
       "    <tr>\n",
       "      <th>1458</th>\n",
       "      <td>1459</td>\n",
       "      <td>20</td>\n",
       "      <td>RL</td>\n",
       "      <td>68.0</td>\n",
       "      <td>9717</td>\n",
       "      <td>Pave</td>\n",
       "      <td>NaN</td>\n",
       "      <td>Reg</td>\n",
       "      <td>Lvl</td>\n",
       "      <td>AllPub</td>\n",
       "      <td>...</td>\n",
       "      <td>0</td>\n",
       "      <td>NaN</td>\n",
       "      <td>NaN</td>\n",
       "      <td>NaN</td>\n",
       "      <td>0</td>\n",
       "      <td>4</td>\n",
       "      <td>2010</td>\n",
       "      <td>WD</td>\n",
       "      <td>Normal</td>\n",
       "      <td>142125</td>\n",
       "    </tr>\n",
       "    <tr>\n",
       "      <th>1459</th>\n",
       "      <td>1460</td>\n",
       "      <td>20</td>\n",
       "      <td>RL</td>\n",
       "      <td>75.0</td>\n",
       "      <td>9937</td>\n",
       "      <td>Pave</td>\n",
       "      <td>NaN</td>\n",
       "      <td>Reg</td>\n",
       "      <td>Lvl</td>\n",
       "      <td>AllPub</td>\n",
       "      <td>...</td>\n",
       "      <td>0</td>\n",
       "      <td>NaN</td>\n",
       "      <td>NaN</td>\n",
       "      <td>NaN</td>\n",
       "      <td>0</td>\n",
       "      <td>6</td>\n",
       "      <td>2008</td>\n",
       "      <td>WD</td>\n",
       "      <td>Normal</td>\n",
       "      <td>147500</td>\n",
       "    </tr>\n",
       "  </tbody>\n",
       "</table>\n",
       "<p>1460 rows × 81 columns</p>\n",
       "</div>"
      ],
      "text/plain": [
       "        Id  MSSubClass MSZoning  LotFrontage  LotArea Street Alley LotShape  \\\n",
       "0        1          60       RL         65.0     8450   Pave   NaN      Reg   \n",
       "1        2          20       RL         80.0     9600   Pave   NaN      Reg   \n",
       "2        3          60       RL         68.0    11250   Pave   NaN      IR1   \n",
       "3        4          70       RL         60.0     9550   Pave   NaN      IR1   \n",
       "4        5          60       RL         84.0    14260   Pave   NaN      IR1   \n",
       "...    ...         ...      ...          ...      ...    ...   ...      ...   \n",
       "1455  1456          60       RL         62.0     7917   Pave   NaN      Reg   \n",
       "1456  1457          20       RL         85.0    13175   Pave   NaN      Reg   \n",
       "1457  1458          70       RL         66.0     9042   Pave   NaN      Reg   \n",
       "1458  1459          20       RL         68.0     9717   Pave   NaN      Reg   \n",
       "1459  1460          20       RL         75.0     9937   Pave   NaN      Reg   \n",
       "\n",
       "     LandContour Utilities  ... PoolArea PoolQC  Fence MiscFeature MiscVal  \\\n",
       "0            Lvl    AllPub  ...        0    NaN    NaN         NaN       0   \n",
       "1            Lvl    AllPub  ...        0    NaN    NaN         NaN       0   \n",
       "2            Lvl    AllPub  ...        0    NaN    NaN         NaN       0   \n",
       "3            Lvl    AllPub  ...        0    NaN    NaN         NaN       0   \n",
       "4            Lvl    AllPub  ...        0    NaN    NaN         NaN       0   \n",
       "...          ...       ...  ...      ...    ...    ...         ...     ...   \n",
       "1455         Lvl    AllPub  ...        0    NaN    NaN         NaN       0   \n",
       "1456         Lvl    AllPub  ...        0    NaN  MnPrv         NaN       0   \n",
       "1457         Lvl    AllPub  ...        0    NaN  GdPrv        Shed    2500   \n",
       "1458         Lvl    AllPub  ...        0    NaN    NaN         NaN       0   \n",
       "1459         Lvl    AllPub  ...        0    NaN    NaN         NaN       0   \n",
       "\n",
       "     MoSold YrSold  SaleType  SaleCondition  SalePrice  \n",
       "0         2   2008        WD         Normal     208500  \n",
       "1         5   2007        WD         Normal     181500  \n",
       "2         9   2008        WD         Normal     223500  \n",
       "3         2   2006        WD        Abnorml     140000  \n",
       "4        12   2008        WD         Normal     250000  \n",
       "...     ...    ...       ...            ...        ...  \n",
       "1455      8   2007        WD         Normal     175000  \n",
       "1456      2   2010        WD         Normal     210000  \n",
       "1457      5   2010        WD         Normal     266500  \n",
       "1458      4   2010        WD         Normal     142125  \n",
       "1459      6   2008        WD         Normal     147500  \n",
       "\n",
       "[1460 rows x 81 columns]"
      ]
     },
     "execution_count": 4,
     "metadata": {},
     "output_type": "execute_result"
    }
   ],
   "source": [
    "data"
   ]
  },
  {
   "cell_type": "code",
   "execution_count": 5,
   "id": "282083a4",
   "metadata": {
    "execution": {
     "iopub.execute_input": "2021-12-08T15:18:39.180071Z",
     "iopub.status.busy": "2021-12-08T15:18:39.179035Z",
     "iopub.status.idle": "2021-12-08T15:18:39.332457Z",
     "shell.execute_reply": "2021-12-08T15:18:39.331847Z",
     "shell.execute_reply.started": "2021-11-12T14:50:22.603699Z"
    },
    "papermill": {
     "duration": 0.220017,
     "end_time": "2021-12-08T15:18:39.332626",
     "exception": false,
     "start_time": "2021-12-08T15:18:39.112609",
     "status": "completed"
    },
    "tags": []
   },
   "outputs": [],
   "source": [
    "data.drop_duplicates(inplace=True)"
   ]
  },
  {
   "cell_type": "markdown",
   "id": "45f95d0f",
   "metadata": {
    "papermill": {
     "duration": 0.063624,
     "end_time": "2021-12-08T15:18:39.463350",
     "exception": false,
     "start_time": "2021-12-08T15:18:39.399726",
     "status": "completed"
    },
    "tags": []
   },
   "source": [
    "# Missing values #1"
   ]
  },
  {
   "cell_type": "markdown",
   "id": "3eca5e9e",
   "metadata": {
    "papermill": {
     "duration": 0.06276,
     "end_time": "2021-12-08T15:18:39.589346",
     "exception": false,
     "start_time": "2021-12-08T15:18:39.526586",
     "status": "completed"
    },
    "tags": []
   },
   "source": [
    "**Deleting columns and rows with omissions**"
   ]
  },
  {
   "cell_type": "code",
   "execution_count": 6,
   "id": "ec0edbb0",
   "metadata": {
    "execution": {
     "iopub.execute_input": "2021-12-08T15:18:39.722880Z",
     "iopub.status.busy": "2021-12-08T15:18:39.722145Z",
     "iopub.status.idle": "2021-12-08T15:18:39.724916Z",
     "shell.execute_reply": "2021-12-08T15:18:39.725522Z",
     "shell.execute_reply.started": "2021-11-12T14:50:22.630839Z"
    },
    "papermill": {
     "duration": 0.07162,
     "end_time": "2021-12-08T15:18:39.725694",
     "exception": false,
     "start_time": "2021-12-08T15:18:39.654074",
     "status": "completed"
    },
    "tags": []
   },
   "outputs": [],
   "source": [
    "data_missing_1 = data.copy()"
   ]
  },
  {
   "cell_type": "code",
   "execution_count": 7,
   "id": "cfeb6925",
   "metadata": {
    "execution": {
     "iopub.execute_input": "2021-12-08T15:18:39.858237Z",
     "iopub.status.busy": "2021-12-08T15:18:39.857539Z",
     "iopub.status.idle": "2021-12-08T15:18:39.872169Z",
     "shell.execute_reply": "2021-12-08T15:18:39.872644Z",
     "shell.execute_reply.started": "2021-11-12T14:50:22.636344Z"
    },
    "papermill": {
     "duration": 0.082493,
     "end_time": "2021-12-08T15:18:39.872857",
     "exception": false,
     "start_time": "2021-12-08T15:18:39.790364",
     "status": "completed"
    },
    "tags": []
   },
   "outputs": [
    {
     "data": {
      "text/plain": [
       "Id               0.000000\n",
       "MSSubClass       0.000000\n",
       "MSZoning         0.000000\n",
       "LotFrontage      0.177397\n",
       "LotArea          0.000000\n",
       "                   ...   \n",
       "MoSold           0.000000\n",
       "YrSold           0.000000\n",
       "SaleType         0.000000\n",
       "SaleCondition    0.000000\n",
       "SalePrice        0.000000\n",
       "Length: 81, dtype: float64"
      ]
     },
     "execution_count": 7,
     "metadata": {},
     "output_type": "execute_result"
    }
   ],
   "source": [
    "data_missing_1.isnull().mean()"
   ]
  },
  {
   "cell_type": "markdown",
   "id": "c41cc680",
   "metadata": {
    "papermill": {
     "duration": 0.063331,
     "end_time": "2021-12-08T15:18:40.001414",
     "exception": false,
     "start_time": "2021-12-08T15:18:39.938083",
     "status": "completed"
    },
    "tags": []
   },
   "source": [
    "**Not all signs are shown**"
   ]
  },
  {
   "cell_type": "code",
   "execution_count": 8,
   "id": "d2af11af",
   "metadata": {
    "execution": {
     "iopub.execute_input": "2021-12-08T15:18:40.143689Z",
     "iopub.status.busy": "2021-12-08T15:18:40.142971Z",
     "iopub.status.idle": "2021-12-08T15:18:40.157450Z",
     "shell.execute_reply": "2021-12-08T15:18:40.158383Z",
     "shell.execute_reply.started": "2021-11-12T14:50:22.66052Z"
    },
    "papermill": {
     "duration": 0.093234,
     "end_time": "2021-12-08T15:18:40.158617",
     "exception": false,
     "start_time": "2021-12-08T15:18:40.065383",
     "status": "completed"
    },
    "tags": []
   },
   "outputs": [
    {
     "name": "stdout",
     "output_type": "stream",
     "text": [
      "Id               0.000000\n",
      "MSSubClass       0.000000\n",
      "MSZoning         0.000000\n",
      "LotFrontage      0.177397\n",
      "LotArea          0.000000\n",
      "Street           0.000000\n",
      "Alley            0.937671\n",
      "LotShape         0.000000\n",
      "LandContour      0.000000\n",
      "Utilities        0.000000\n",
      "LotConfig        0.000000\n",
      "LandSlope        0.000000\n",
      "Neighborhood     0.000000\n",
      "Condition1       0.000000\n",
      "Condition2       0.000000\n",
      "BldgType         0.000000\n",
      "HouseStyle       0.000000\n",
      "OverallQual      0.000000\n",
      "OverallCond      0.000000\n",
      "YearBuilt        0.000000\n",
      "YearRemodAdd     0.000000\n",
      "RoofStyle        0.000000\n",
      "RoofMatl         0.000000\n",
      "Exterior1st      0.000000\n",
      "Exterior2nd      0.000000\n",
      "MasVnrType       0.005479\n",
      "MasVnrArea       0.005479\n",
      "ExterQual        0.000000\n",
      "ExterCond        0.000000\n",
      "Foundation       0.000000\n",
      "BsmtQual         0.025342\n",
      "BsmtCond         0.025342\n",
      "BsmtExposure     0.026027\n",
      "BsmtFinType1     0.025342\n",
      "BsmtFinSF1       0.000000\n",
      "BsmtFinType2     0.026027\n",
      "BsmtFinSF2       0.000000\n",
      "BsmtUnfSF        0.000000\n",
      "TotalBsmtSF      0.000000\n",
      "Heating          0.000000\n",
      "HeatingQC        0.000000\n",
      "CentralAir       0.000000\n",
      "Electrical       0.000685\n",
      "1stFlrSF         0.000000\n",
      "2ndFlrSF         0.000000\n",
      "LowQualFinSF     0.000000\n",
      "GrLivArea        0.000000\n",
      "BsmtFullBath     0.000000\n",
      "BsmtHalfBath     0.000000\n",
      "FullBath         0.000000\n",
      "HalfBath         0.000000\n",
      "BedroomAbvGr     0.000000\n",
      "KitchenAbvGr     0.000000\n",
      "KitchenQual      0.000000\n",
      "TotRmsAbvGrd     0.000000\n",
      "Functional       0.000000\n",
      "Fireplaces       0.000000\n",
      "FireplaceQu      0.472603\n",
      "GarageType       0.055479\n",
      "GarageYrBlt      0.055479\n",
      "GarageFinish     0.055479\n",
      "GarageCars       0.000000\n",
      "GarageArea       0.000000\n",
      "GarageQual       0.055479\n",
      "GarageCond       0.055479\n",
      "PavedDrive       0.000000\n",
      "WoodDeckSF       0.000000\n",
      "OpenPorchSF      0.000000\n",
      "EnclosedPorch    0.000000\n",
      "3SsnPorch        0.000000\n",
      "ScreenPorch      0.000000\n",
      "PoolArea         0.000000\n",
      "PoolQC           0.995205\n",
      "Fence            0.807534\n",
      "MiscFeature      0.963014\n",
      "MiscVal          0.000000\n",
      "MoSold           0.000000\n",
      "YrSold           0.000000\n",
      "SaleType         0.000000\n",
      "SaleCondition    0.000000\n",
      "SalePrice        0.000000\n"
     ]
    }
   ],
   "source": [
    "print(data_missing_1.isnull().mean().to_string())"
   ]
  },
  {
   "cell_type": "markdown",
   "id": "3ae26b88",
   "metadata": {
    "papermill": {
     "duration": 0.065236,
     "end_time": "2021-12-08T15:18:40.290312",
     "exception": false,
     "start_time": "2021-12-08T15:18:40.225076",
     "status": "completed"
    },
    "tags": []
   },
   "source": [
    "**Now you can see all the signs. Mean() shows the percentage of missing values, so it's more convenient**"
   ]
  },
  {
   "cell_type": "code",
   "execution_count": 9,
   "id": "f7950073",
   "metadata": {
    "execution": {
     "iopub.execute_input": "2021-12-08T15:18:40.424113Z",
     "iopub.status.busy": "2021-12-08T15:18:40.423352Z",
     "iopub.status.idle": "2021-12-08T15:18:40.438860Z",
     "shell.execute_reply": "2021-12-08T15:18:40.439362Z",
     "shell.execute_reply.started": "2021-11-12T14:50:22.68386Z"
    },
    "papermill": {
     "duration": 0.083896,
     "end_time": "2021-12-08T15:18:40.439554",
     "exception": false,
     "start_time": "2021-12-08T15:18:40.355658",
     "status": "completed"
    },
    "tags": []
   },
   "outputs": [
    {
     "data": {
      "text/plain": [
       "PoolQC          0.995205\n",
       "MiscFeature     0.963014\n",
       "Alley           0.937671\n",
       "Fence           0.807534\n",
       "FireplaceQu     0.472603\n",
       "LotFrontage     0.177397\n",
       "GarageYrBlt     0.055479\n",
       "GarageCond      0.055479\n",
       "GarageType      0.055479\n",
       "GarageFinish    0.055479\n",
       "GarageQual      0.055479\n",
       "BsmtFinType2    0.026027\n",
       "BsmtExposure    0.026027\n",
       "BsmtQual        0.025342\n",
       "BsmtCond        0.025342\n",
       "BsmtFinType1    0.025342\n",
       "MasVnrArea      0.005479\n",
       "MasVnrType      0.005479\n",
       "Electrical      0.000685\n",
       "Id              0.000000\n",
       "dtype: float64"
      ]
     },
     "execution_count": 9,
     "metadata": {},
     "output_type": "execute_result"
    }
   ],
   "source": [
    "data_missing_1.isnull().mean().sort_values(ascending=False).head(20)"
   ]
  },
  {
   "cell_type": "markdown",
   "id": "3b8c4b9c",
   "metadata": {
    "papermill": {
     "duration": 0.064754,
     "end_time": "2021-12-08T15:18:40.569515",
     "exception": false,
     "start_time": "2021-12-08T15:18:40.504761",
     "status": "completed"
    },
    "tags": []
   },
   "source": [
    "**Sort in descending order**"
   ]
  },
  {
   "cell_type": "code",
   "execution_count": 10,
   "id": "d48ab728",
   "metadata": {
    "execution": {
     "iopub.execute_input": "2021-12-08T15:18:40.702099Z",
     "iopub.status.busy": "2021-12-08T15:18:40.701388Z",
     "iopub.status.idle": "2021-12-08T15:18:40.716007Z",
     "shell.execute_reply": "2021-12-08T15:18:40.716477Z",
     "shell.execute_reply.started": "2021-11-12T14:50:22.705547Z"
    },
    "papermill": {
     "duration": 0.082442,
     "end_time": "2021-12-08T15:18:40.716670",
     "exception": false,
     "start_time": "2021-12-08T15:18:40.634228",
     "status": "completed"
    },
    "tags": []
   },
   "outputs": [
    {
     "data": {
      "text/plain": [
       "Index(['PoolQC', 'MiscFeature', 'Alley', 'Fence', 'FireplaceQu'], dtype='object')"
      ]
     },
     "execution_count": 10,
     "metadata": {},
     "output_type": "execute_result"
    }
   ],
   "source": [
    "pd.DataFrame(data_missing_1.isnull().mean().sort_values(ascending=False).head(5)).T.columns"
   ]
  },
  {
   "cell_type": "code",
   "execution_count": 11,
   "id": "a431a0eb",
   "metadata": {
    "execution": {
     "iopub.execute_input": "2021-12-08T15:18:40.850086Z",
     "iopub.status.busy": "2021-12-08T15:18:40.849351Z",
     "iopub.status.idle": "2021-12-08T15:18:40.855140Z",
     "shell.execute_reply": "2021-12-08T15:18:40.855628Z",
     "shell.execute_reply.started": "2021-11-12T14:50:22.765734Z"
    },
    "papermill": {
     "duration": 0.074546,
     "end_time": "2021-12-08T15:18:40.855831",
     "exception": false,
     "start_time": "2021-12-08T15:18:40.781285",
     "status": "completed"
    },
    "tags": []
   },
   "outputs": [],
   "source": [
    "data_missing_1.drop(['PoolQC', 'MiscFeature', 'Alley', 'Fence', 'FireplaceQu'], axis=1, inplace=True)"
   ]
  },
  {
   "cell_type": "markdown",
   "id": "c7b55e6b",
   "metadata": {
    "papermill": {
     "duration": 0.080486,
     "end_time": "2021-12-08T15:18:41.012312",
     "exception": false,
     "start_time": "2021-12-08T15:18:40.931826",
     "status": "completed"
    },
    "tags": []
   },
   "source": [
    "**We remove signs where more than 50% of the missing values**"
   ]
  },
  {
   "cell_type": "code",
   "execution_count": 12,
   "id": "7ff765fc",
   "metadata": {
    "execution": {
     "iopub.execute_input": "2021-12-08T15:18:41.173205Z",
     "iopub.status.busy": "2021-12-08T15:18:41.172419Z",
     "iopub.status.idle": "2021-12-08T15:18:41.179592Z",
     "shell.execute_reply": "2021-12-08T15:18:41.180147Z",
     "shell.execute_reply.started": "2021-11-12T14:50:22.774016Z"
    },
    "papermill": {
     "duration": 0.089066,
     "end_time": "2021-12-08T15:18:41.180327",
     "exception": false,
     "start_time": "2021-12-08T15:18:41.091261",
     "status": "completed"
    },
    "tags": []
   },
   "outputs": [
    {
     "data": {
      "text/plain": [
       "LotFrontage     0.177397\n",
       "GarageType      0.055479\n",
       "GarageCond      0.055479\n",
       "GarageYrBlt     0.055479\n",
       "GarageFinish    0.055479\n",
       "GarageQual      0.055479\n",
       "BsmtFinType2    0.026027\n",
       "BsmtExposure    0.026027\n",
       "BsmtFinType1    0.025342\n",
       "BsmtCond        0.025342\n",
       "BsmtQual        0.025342\n",
       "MasVnrArea      0.005479\n",
       "MasVnrType      0.005479\n",
       "Electrical      0.000685\n",
       "PavedDrive      0.000000\n",
       "dtype: float64"
      ]
     },
     "execution_count": 12,
     "metadata": {},
     "output_type": "execute_result"
    }
   ],
   "source": [
    "data_missing_1.isnull().mean().sort_values(ascending=False).head(15)"
   ]
  },
  {
   "cell_type": "code",
   "execution_count": 13,
   "id": "f099c4c0",
   "metadata": {
    "execution": {
     "iopub.execute_input": "2021-12-08T15:18:41.323565Z",
     "iopub.status.busy": "2021-12-08T15:18:41.314440Z",
     "iopub.status.idle": "2021-12-08T15:18:41.328557Z",
     "shell.execute_reply": "2021-12-08T15:18:41.329121Z",
     "shell.execute_reply.started": "2021-11-12T14:50:22.796847Z"
    },
    "papermill": {
     "duration": 0.08376,
     "end_time": "2021-12-08T15:18:41.329332",
     "exception": false,
     "start_time": "2021-12-08T15:18:41.245572",
     "status": "completed"
    },
    "tags": []
   },
   "outputs": [],
   "source": [
    "data_missing_1.dropna(axis=0, inplace=True)"
   ]
  },
  {
   "cell_type": "markdown",
   "id": "4a00ef02",
   "metadata": {
    "papermill": {
     "duration": 0.065705,
     "end_time": "2021-12-08T15:18:41.461361",
     "exception": false,
     "start_time": "2021-12-08T15:18:41.395656",
     "status": "completed"
    },
    "tags": []
   },
   "source": [
    "**We output the remaining signs and delete the lines with omissions**"
   ]
  },
  {
   "cell_type": "code",
   "execution_count": 14,
   "id": "3ce701b2",
   "metadata": {
    "execution": {
     "iopub.execute_input": "2021-12-08T15:18:41.600560Z",
     "iopub.status.busy": "2021-12-08T15:18:41.594422Z",
     "iopub.status.idle": "2021-12-08T15:18:41.608113Z",
     "shell.execute_reply": "2021-12-08T15:18:41.608702Z",
     "shell.execute_reply.started": "2021-11-12T14:50:22.812059Z"
    },
    "papermill": {
     "duration": 0.082126,
     "end_time": "2021-12-08T15:18:41.608890",
     "exception": false,
     "start_time": "2021-12-08T15:18:41.526764",
     "status": "completed"
    },
    "tags": []
   },
   "outputs": [
    {
     "data": {
      "text/plain": [
       "Id               0.0\n",
       "MSSubClass       0.0\n",
       "MSZoning         0.0\n",
       "LotFrontage      0.0\n",
       "LotArea          0.0\n",
       "                ... \n",
       "MoSold           0.0\n",
       "YrSold           0.0\n",
       "SaleType         0.0\n",
       "SaleCondition    0.0\n",
       "SalePrice        0.0\n",
       "Length: 76, dtype: float64"
      ]
     },
     "execution_count": 14,
     "metadata": {},
     "output_type": "execute_result"
    }
   ],
   "source": [
    "data_missing_1.isnull().mean()"
   ]
  },
  {
   "cell_type": "markdown",
   "id": "b419e898",
   "metadata": {
    "papermill": {
     "duration": 0.065718,
     "end_time": "2021-12-08T15:18:41.744837",
     "exception": false,
     "start_time": "2021-12-08T15:18:41.679119",
     "status": "completed"
    },
    "tags": []
   },
   "source": [
    "# Missing values #2"
   ]
  },
  {
   "cell_type": "markdown",
   "id": "b3a59441",
   "metadata": {
    "papermill": {
     "duration": 0.065981,
     "end_time": "2021-12-08T15:18:41.878232",
     "exception": false,
     "start_time": "2021-12-08T15:18:41.812251",
     "status": "completed"
    },
    "tags": []
   },
   "source": [
    "**Replace the missing values with the mode and median of the features**"
   ]
  },
  {
   "cell_type": "code",
   "execution_count": 15,
   "id": "7d958209",
   "metadata": {
    "execution": {
     "iopub.execute_input": "2021-12-08T15:18:42.020928Z",
     "iopub.status.busy": "2021-12-08T15:18:42.020220Z",
     "iopub.status.idle": "2021-12-08T15:18:42.024097Z",
     "shell.execute_reply": "2021-12-08T15:18:42.024686Z",
     "shell.execute_reply.started": "2021-11-12T14:50:22.827027Z"
    },
    "papermill": {
     "duration": 0.075553,
     "end_time": "2021-12-08T15:18:42.024917",
     "exception": false,
     "start_time": "2021-12-08T15:18:41.949364",
     "status": "completed"
    },
    "tags": []
   },
   "outputs": [],
   "source": [
    "data_missing_2 = data.copy()"
   ]
  },
  {
   "cell_type": "code",
   "execution_count": 16,
   "id": "3a01bcdf",
   "metadata": {
    "execution": {
     "iopub.execute_input": "2021-12-08T15:18:42.170563Z",
     "iopub.status.busy": "2021-12-08T15:18:42.160779Z",
     "iopub.status.idle": "2021-12-08T15:18:42.176733Z",
     "shell.execute_reply": "2021-12-08T15:18:42.177284Z",
     "shell.execute_reply.started": "2021-11-12T14:50:22.832425Z"
    },
    "papermill": {
     "duration": 0.084925,
     "end_time": "2021-12-08T15:18:42.177472",
     "exception": false,
     "start_time": "2021-12-08T15:18:42.092547",
     "status": "completed"
    },
    "tags": []
   },
   "outputs": [
    {
     "data": {
      "text/plain": [
       "PoolQC          0.995205\n",
       "MiscFeature     0.963014\n",
       "Alley           0.937671\n",
       "Fence           0.807534\n",
       "FireplaceQu     0.472603\n",
       "LotFrontage     0.177397\n",
       "GarageYrBlt     0.055479\n",
       "GarageCond      0.055479\n",
       "GarageType      0.055479\n",
       "GarageFinish    0.055479\n",
       "GarageQual      0.055479\n",
       "BsmtFinType2    0.026027\n",
       "BsmtExposure    0.026027\n",
       "BsmtQual        0.025342\n",
       "BsmtCond        0.025342\n",
       "BsmtFinType1    0.025342\n",
       "MasVnrArea      0.005479\n",
       "MasVnrType      0.005479\n",
       "Electrical      0.000685\n",
       "Id              0.000000\n",
       "dtype: float64"
      ]
     },
     "execution_count": 16,
     "metadata": {},
     "output_type": "execute_result"
    }
   ],
   "source": [
    "data_missing_2.isnull().mean().sort_values(ascending=False).head(20)"
   ]
  },
  {
   "cell_type": "code",
   "execution_count": 17,
   "id": "11a9925f",
   "metadata": {
    "execution": {
     "iopub.execute_input": "2021-12-08T15:18:42.316844Z",
     "iopub.status.busy": "2021-12-08T15:18:42.316088Z",
     "iopub.status.idle": "2021-12-08T15:18:42.322443Z",
     "shell.execute_reply": "2021-12-08T15:18:42.322989Z",
     "shell.execute_reply.started": "2021-11-12T14:50:22.854687Z"
    },
    "papermill": {
     "duration": 0.07922,
     "end_time": "2021-12-08T15:18:42.323178",
     "exception": false,
     "start_time": "2021-12-08T15:18:42.243958",
     "status": "completed"
    },
    "tags": []
   },
   "outputs": [],
   "source": [
    "data_missing_2.drop(['PoolQC', 'MiscFeature', 'Alley', 'Fence', 'FireplaceQu'], axis=1, inplace=True)"
   ]
  },
  {
   "cell_type": "markdown",
   "id": "d28a333a",
   "metadata": {
    "papermill": {
     "duration": 0.066004,
     "end_time": "2021-12-08T15:18:42.458123",
     "exception": false,
     "start_time": "2021-12-08T15:18:42.392119",
     "status": "completed"
    },
    "tags": []
   },
   "source": [
    "**If there are more than 50% missing values in the attribute, then we delete the attribute completely.**"
   ]
  },
  {
   "cell_type": "code",
   "execution_count": 18,
   "id": "679d0a75",
   "metadata": {
    "execution": {
     "iopub.execute_input": "2021-12-08T15:18:42.593532Z",
     "iopub.status.busy": "2021-12-08T15:18:42.592884Z",
     "iopub.status.idle": "2021-12-08T15:18:42.608912Z",
     "shell.execute_reply": "2021-12-08T15:18:42.608301Z",
     "shell.execute_reply.started": "2021-11-12T14:50:22.864487Z"
    },
    "papermill": {
     "duration": 0.084781,
     "end_time": "2021-12-08T15:18:42.609061",
     "exception": false,
     "start_time": "2021-12-08T15:18:42.524280",
     "status": "completed"
    },
    "tags": []
   },
   "outputs": [
    {
     "data": {
      "text/plain": [
       "Index(['LotFrontage', 'GarageType', 'GarageCond', 'GarageYrBlt',\n",
       "       'GarageFinish', 'GarageQual', 'BsmtFinType2', 'BsmtExposure',\n",
       "       'BsmtFinType1', 'BsmtCond', 'BsmtQual', 'MasVnrArea', 'MasVnrType',\n",
       "       'Electrical', 'PavedDrive', 'WoodDeckSF', 'LowQualFinSF', 'GrLivArea',\n",
       "       'BsmtFullBath', 'BsmtHalfBath'],\n",
       "      dtype='object')"
      ]
     },
     "execution_count": 18,
     "metadata": {},
     "output_type": "execute_result"
    }
   ],
   "source": [
    "pd.DataFrame(data_missing_2.isnull().mean().sort_values(ascending=False)).head(20).T.columns"
   ]
  },
  {
   "cell_type": "code",
   "execution_count": 19,
   "id": "59c7f9c5",
   "metadata": {
    "execution": {
     "iopub.execute_input": "2021-12-08T15:18:42.774662Z",
     "iopub.status.busy": "2021-12-08T15:18:42.773468Z",
     "iopub.status.idle": "2021-12-08T15:18:42.777750Z",
     "shell.execute_reply": "2021-12-08T15:18:42.778323Z",
     "shell.execute_reply.started": "2021-11-12T14:50:22.882893Z"
    },
    "papermill": {
     "duration": 0.103005,
     "end_time": "2021-12-08T15:18:42.778501",
     "exception": false,
     "start_time": "2021-12-08T15:18:42.675496",
     "status": "completed"
    },
    "tags": []
   },
   "outputs": [
    {
     "data": {
      "text/html": [
       "<div>\n",
       "<style scoped>\n",
       "    .dataframe tbody tr th:only-of-type {\n",
       "        vertical-align: middle;\n",
       "    }\n",
       "\n",
       "    .dataframe tbody tr th {\n",
       "        vertical-align: top;\n",
       "    }\n",
       "\n",
       "    .dataframe thead th {\n",
       "        text-align: right;\n",
       "    }\n",
       "</style>\n",
       "<table border=\"1\" class=\"dataframe\">\n",
       "  <thead>\n",
       "    <tr style=\"text-align: right;\">\n",
       "      <th></th>\n",
       "      <th>LotFrontage</th>\n",
       "      <th>GarageType</th>\n",
       "      <th>GarageCond</th>\n",
       "      <th>GarageYrBlt</th>\n",
       "      <th>GarageFinish</th>\n",
       "      <th>GarageQual</th>\n",
       "      <th>BsmtFinType2</th>\n",
       "      <th>BsmtExposure</th>\n",
       "      <th>BsmtFinType1</th>\n",
       "      <th>BsmtCond</th>\n",
       "      <th>BsmtQual</th>\n",
       "      <th>MasVnrArea</th>\n",
       "      <th>MasVnrType</th>\n",
       "      <th>Electrical</th>\n",
       "      <th>PavedDrive</th>\n",
       "      <th>WoodDeckSF</th>\n",
       "      <th>LowQualFinSF</th>\n",
       "      <th>GrLivArea</th>\n",
       "      <th>BsmtFullBath</th>\n",
       "      <th>BsmtHalfBath</th>\n",
       "    </tr>\n",
       "  </thead>\n",
       "  <tbody>\n",
       "    <tr>\n",
       "      <th>0</th>\n",
       "      <td>65.0</td>\n",
       "      <td>Attchd</td>\n",
       "      <td>TA</td>\n",
       "      <td>2003.0</td>\n",
       "      <td>RFn</td>\n",
       "      <td>TA</td>\n",
       "      <td>Unf</td>\n",
       "      <td>No</td>\n",
       "      <td>GLQ</td>\n",
       "      <td>TA</td>\n",
       "      <td>Gd</td>\n",
       "      <td>196.0</td>\n",
       "      <td>BrkFace</td>\n",
       "      <td>SBrkr</td>\n",
       "      <td>Y</td>\n",
       "      <td>0</td>\n",
       "      <td>0</td>\n",
       "      <td>1710</td>\n",
       "      <td>1</td>\n",
       "      <td>0</td>\n",
       "    </tr>\n",
       "    <tr>\n",
       "      <th>1</th>\n",
       "      <td>80.0</td>\n",
       "      <td>Attchd</td>\n",
       "      <td>TA</td>\n",
       "      <td>1976.0</td>\n",
       "      <td>RFn</td>\n",
       "      <td>TA</td>\n",
       "      <td>Unf</td>\n",
       "      <td>Gd</td>\n",
       "      <td>ALQ</td>\n",
       "      <td>TA</td>\n",
       "      <td>Gd</td>\n",
       "      <td>0.0</td>\n",
       "      <td>None</td>\n",
       "      <td>SBrkr</td>\n",
       "      <td>Y</td>\n",
       "      <td>298</td>\n",
       "      <td>0</td>\n",
       "      <td>1262</td>\n",
       "      <td>0</td>\n",
       "      <td>1</td>\n",
       "    </tr>\n",
       "    <tr>\n",
       "      <th>2</th>\n",
       "      <td>68.0</td>\n",
       "      <td>Attchd</td>\n",
       "      <td>TA</td>\n",
       "      <td>2001.0</td>\n",
       "      <td>RFn</td>\n",
       "      <td>TA</td>\n",
       "      <td>Unf</td>\n",
       "      <td>Mn</td>\n",
       "      <td>GLQ</td>\n",
       "      <td>TA</td>\n",
       "      <td>Gd</td>\n",
       "      <td>162.0</td>\n",
       "      <td>BrkFace</td>\n",
       "      <td>SBrkr</td>\n",
       "      <td>Y</td>\n",
       "      <td>0</td>\n",
       "      <td>0</td>\n",
       "      <td>1786</td>\n",
       "      <td>1</td>\n",
       "      <td>0</td>\n",
       "    </tr>\n",
       "    <tr>\n",
       "      <th>3</th>\n",
       "      <td>60.0</td>\n",
       "      <td>Detchd</td>\n",
       "      <td>TA</td>\n",
       "      <td>1998.0</td>\n",
       "      <td>Unf</td>\n",
       "      <td>TA</td>\n",
       "      <td>Unf</td>\n",
       "      <td>No</td>\n",
       "      <td>ALQ</td>\n",
       "      <td>Gd</td>\n",
       "      <td>TA</td>\n",
       "      <td>0.0</td>\n",
       "      <td>None</td>\n",
       "      <td>SBrkr</td>\n",
       "      <td>Y</td>\n",
       "      <td>0</td>\n",
       "      <td>0</td>\n",
       "      <td>1717</td>\n",
       "      <td>1</td>\n",
       "      <td>0</td>\n",
       "    </tr>\n",
       "    <tr>\n",
       "      <th>4</th>\n",
       "      <td>84.0</td>\n",
       "      <td>Attchd</td>\n",
       "      <td>TA</td>\n",
       "      <td>2000.0</td>\n",
       "      <td>RFn</td>\n",
       "      <td>TA</td>\n",
       "      <td>Unf</td>\n",
       "      <td>Av</td>\n",
       "      <td>GLQ</td>\n",
       "      <td>TA</td>\n",
       "      <td>Gd</td>\n",
       "      <td>350.0</td>\n",
       "      <td>BrkFace</td>\n",
       "      <td>SBrkr</td>\n",
       "      <td>Y</td>\n",
       "      <td>192</td>\n",
       "      <td>0</td>\n",
       "      <td>2198</td>\n",
       "      <td>1</td>\n",
       "      <td>0</td>\n",
       "    </tr>\n",
       "    <tr>\n",
       "      <th>...</th>\n",
       "      <td>...</td>\n",
       "      <td>...</td>\n",
       "      <td>...</td>\n",
       "      <td>...</td>\n",
       "      <td>...</td>\n",
       "      <td>...</td>\n",
       "      <td>...</td>\n",
       "      <td>...</td>\n",
       "      <td>...</td>\n",
       "      <td>...</td>\n",
       "      <td>...</td>\n",
       "      <td>...</td>\n",
       "      <td>...</td>\n",
       "      <td>...</td>\n",
       "      <td>...</td>\n",
       "      <td>...</td>\n",
       "      <td>...</td>\n",
       "      <td>...</td>\n",
       "      <td>...</td>\n",
       "      <td>...</td>\n",
       "    </tr>\n",
       "    <tr>\n",
       "      <th>1455</th>\n",
       "      <td>62.0</td>\n",
       "      <td>Attchd</td>\n",
       "      <td>TA</td>\n",
       "      <td>1999.0</td>\n",
       "      <td>RFn</td>\n",
       "      <td>TA</td>\n",
       "      <td>Unf</td>\n",
       "      <td>No</td>\n",
       "      <td>Unf</td>\n",
       "      <td>TA</td>\n",
       "      <td>Gd</td>\n",
       "      <td>0.0</td>\n",
       "      <td>None</td>\n",
       "      <td>SBrkr</td>\n",
       "      <td>Y</td>\n",
       "      <td>0</td>\n",
       "      <td>0</td>\n",
       "      <td>1647</td>\n",
       "      <td>0</td>\n",
       "      <td>0</td>\n",
       "    </tr>\n",
       "    <tr>\n",
       "      <th>1456</th>\n",
       "      <td>85.0</td>\n",
       "      <td>Attchd</td>\n",
       "      <td>TA</td>\n",
       "      <td>1978.0</td>\n",
       "      <td>Unf</td>\n",
       "      <td>TA</td>\n",
       "      <td>Rec</td>\n",
       "      <td>No</td>\n",
       "      <td>ALQ</td>\n",
       "      <td>TA</td>\n",
       "      <td>Gd</td>\n",
       "      <td>119.0</td>\n",
       "      <td>Stone</td>\n",
       "      <td>SBrkr</td>\n",
       "      <td>Y</td>\n",
       "      <td>349</td>\n",
       "      <td>0</td>\n",
       "      <td>2073</td>\n",
       "      <td>1</td>\n",
       "      <td>0</td>\n",
       "    </tr>\n",
       "    <tr>\n",
       "      <th>1457</th>\n",
       "      <td>66.0</td>\n",
       "      <td>Attchd</td>\n",
       "      <td>TA</td>\n",
       "      <td>1941.0</td>\n",
       "      <td>RFn</td>\n",
       "      <td>TA</td>\n",
       "      <td>Unf</td>\n",
       "      <td>No</td>\n",
       "      <td>GLQ</td>\n",
       "      <td>Gd</td>\n",
       "      <td>TA</td>\n",
       "      <td>0.0</td>\n",
       "      <td>None</td>\n",
       "      <td>SBrkr</td>\n",
       "      <td>Y</td>\n",
       "      <td>0</td>\n",
       "      <td>0</td>\n",
       "      <td>2340</td>\n",
       "      <td>0</td>\n",
       "      <td>0</td>\n",
       "    </tr>\n",
       "    <tr>\n",
       "      <th>1458</th>\n",
       "      <td>68.0</td>\n",
       "      <td>Attchd</td>\n",
       "      <td>TA</td>\n",
       "      <td>1950.0</td>\n",
       "      <td>Unf</td>\n",
       "      <td>TA</td>\n",
       "      <td>Rec</td>\n",
       "      <td>Mn</td>\n",
       "      <td>GLQ</td>\n",
       "      <td>TA</td>\n",
       "      <td>TA</td>\n",
       "      <td>0.0</td>\n",
       "      <td>None</td>\n",
       "      <td>FuseA</td>\n",
       "      <td>Y</td>\n",
       "      <td>366</td>\n",
       "      <td>0</td>\n",
       "      <td>1078</td>\n",
       "      <td>1</td>\n",
       "      <td>0</td>\n",
       "    </tr>\n",
       "    <tr>\n",
       "      <th>1459</th>\n",
       "      <td>75.0</td>\n",
       "      <td>Attchd</td>\n",
       "      <td>TA</td>\n",
       "      <td>1965.0</td>\n",
       "      <td>Fin</td>\n",
       "      <td>TA</td>\n",
       "      <td>LwQ</td>\n",
       "      <td>No</td>\n",
       "      <td>BLQ</td>\n",
       "      <td>TA</td>\n",
       "      <td>TA</td>\n",
       "      <td>0.0</td>\n",
       "      <td>None</td>\n",
       "      <td>SBrkr</td>\n",
       "      <td>Y</td>\n",
       "      <td>736</td>\n",
       "      <td>0</td>\n",
       "      <td>1256</td>\n",
       "      <td>1</td>\n",
       "      <td>0</td>\n",
       "    </tr>\n",
       "  </tbody>\n",
       "</table>\n",
       "<p>1460 rows × 20 columns</p>\n",
       "</div>"
      ],
      "text/plain": [
       "      LotFrontage GarageType GarageCond  GarageYrBlt GarageFinish GarageQual  \\\n",
       "0            65.0     Attchd         TA       2003.0          RFn         TA   \n",
       "1            80.0     Attchd         TA       1976.0          RFn         TA   \n",
       "2            68.0     Attchd         TA       2001.0          RFn         TA   \n",
       "3            60.0     Detchd         TA       1998.0          Unf         TA   \n",
       "4            84.0     Attchd         TA       2000.0          RFn         TA   \n",
       "...           ...        ...        ...          ...          ...        ...   \n",
       "1455         62.0     Attchd         TA       1999.0          RFn         TA   \n",
       "1456         85.0     Attchd         TA       1978.0          Unf         TA   \n",
       "1457         66.0     Attchd         TA       1941.0          RFn         TA   \n",
       "1458         68.0     Attchd         TA       1950.0          Unf         TA   \n",
       "1459         75.0     Attchd         TA       1965.0          Fin         TA   \n",
       "\n",
       "     BsmtFinType2 BsmtExposure BsmtFinType1 BsmtCond BsmtQual  MasVnrArea  \\\n",
       "0             Unf           No          GLQ       TA       Gd       196.0   \n",
       "1             Unf           Gd          ALQ       TA       Gd         0.0   \n",
       "2             Unf           Mn          GLQ       TA       Gd       162.0   \n",
       "3             Unf           No          ALQ       Gd       TA         0.0   \n",
       "4             Unf           Av          GLQ       TA       Gd       350.0   \n",
       "...           ...          ...          ...      ...      ...         ...   \n",
       "1455          Unf           No          Unf       TA       Gd         0.0   \n",
       "1456          Rec           No          ALQ       TA       Gd       119.0   \n",
       "1457          Unf           No          GLQ       Gd       TA         0.0   \n",
       "1458          Rec           Mn          GLQ       TA       TA         0.0   \n",
       "1459          LwQ           No          BLQ       TA       TA         0.0   \n",
       "\n",
       "     MasVnrType Electrical PavedDrive  WoodDeckSF  LowQualFinSF  GrLivArea  \\\n",
       "0       BrkFace      SBrkr          Y           0             0       1710   \n",
       "1          None      SBrkr          Y         298             0       1262   \n",
       "2       BrkFace      SBrkr          Y           0             0       1786   \n",
       "3          None      SBrkr          Y           0             0       1717   \n",
       "4       BrkFace      SBrkr          Y         192             0       2198   \n",
       "...         ...        ...        ...         ...           ...        ...   \n",
       "1455       None      SBrkr          Y           0             0       1647   \n",
       "1456      Stone      SBrkr          Y         349             0       2073   \n",
       "1457       None      SBrkr          Y           0             0       2340   \n",
       "1458       None      FuseA          Y         366             0       1078   \n",
       "1459       None      SBrkr          Y         736             0       1256   \n",
       "\n",
       "      BsmtFullBath  BsmtHalfBath  \n",
       "0                1             0  \n",
       "1                0             1  \n",
       "2                1             0  \n",
       "3                1             0  \n",
       "4                1             0  \n",
       "...            ...           ...  \n",
       "1455             0             0  \n",
       "1456             1             0  \n",
       "1457             0             0  \n",
       "1458             1             0  \n",
       "1459             1             0  \n",
       "\n",
       "[1460 rows x 20 columns]"
      ]
     },
     "execution_count": 19,
     "metadata": {},
     "output_type": "execute_result"
    }
   ],
   "source": [
    "data_missing_2[['LotFrontage', 'GarageType', 'GarageCond', 'GarageYrBlt',\n",
    "       'GarageFinish', 'GarageQual', 'BsmtFinType2', 'BsmtExposure',\n",
    "       'BsmtFinType1', 'BsmtCond', 'BsmtQual', 'MasVnrArea', 'MasVnrType',\n",
    "       'Electrical', 'PavedDrive', 'WoodDeckSF', 'LowQualFinSF', 'GrLivArea',\n",
    "       'BsmtFullBath', 'BsmtHalfBath']]"
   ]
  },
  {
   "cell_type": "code",
   "execution_count": 20,
   "id": "fb575c13",
   "metadata": {
    "execution": {
     "iopub.execute_input": "2021-12-08T15:18:42.921534Z",
     "iopub.status.busy": "2021-12-08T15:18:42.920778Z",
     "iopub.status.idle": "2021-12-08T15:18:42.922530Z",
     "shell.execute_reply": "2021-12-08T15:18:42.923103Z",
     "shell.execute_reply.started": "2021-11-12T14:50:22.919133Z"
    },
    "papermill": {
     "duration": 0.076958,
     "end_time": "2021-12-08T15:18:42.923285",
     "exception": false,
     "start_time": "2021-12-08T15:18:42.846327",
     "status": "completed"
    },
    "tags": []
   },
   "outputs": [],
   "source": [
    "column_mode = ['GarageType', 'GarageCond', 'GarageYrBlt',\n",
    "       'GarageFinish', 'GarageQual', 'BsmtFinType2', 'BsmtExposure',\n",
    "       'BsmtFinType1', 'BsmtCond', 'BsmtQual', 'MasVnrArea', 'MasVnrType',\n",
    "       'Electrical', 'PavedDrive', 'WoodDeckSF', 'LowQualFinSF', 'GrLivArea',\n",
    "       'BsmtFullBath', 'BsmtHalfBath']"
   ]
  },
  {
   "cell_type": "code",
   "execution_count": 21,
   "id": "11eb2617",
   "metadata": {
    "execution": {
     "iopub.execute_input": "2021-12-08T15:18:43.061285Z",
     "iopub.status.busy": "2021-12-08T15:18:43.060568Z",
     "iopub.status.idle": "2021-12-08T15:18:43.078951Z",
     "shell.execute_reply": "2021-12-08T15:18:43.079489Z",
     "shell.execute_reply.started": "2021-11-12T14:50:22.926236Z"
    },
    "papermill": {
     "duration": 0.088772,
     "end_time": "2021-12-08T15:18:43.079683",
     "exception": false,
     "start_time": "2021-12-08T15:18:42.990911",
     "status": "completed"
    },
    "tags": []
   },
   "outputs": [],
   "source": [
    "for i in column_mode:\n",
    "    data_missing_2[i] = data_missing_2[i].fillna(mode(data_missing_2[i]))"
   ]
  },
  {
   "cell_type": "code",
   "execution_count": 22,
   "id": "335b412d",
   "metadata": {
    "execution": {
     "iopub.execute_input": "2021-12-08T15:18:43.224135Z",
     "iopub.status.busy": "2021-12-08T15:18:43.223428Z",
     "iopub.status.idle": "2021-12-08T15:18:43.225971Z",
     "shell.execute_reply": "2021-12-08T15:18:43.226466Z",
     "shell.execute_reply.started": "2021-11-12T14:50:22.952602Z"
    },
    "papermill": {
     "duration": 0.078433,
     "end_time": "2021-12-08T15:18:43.226633",
     "exception": false,
     "start_time": "2021-12-08T15:18:43.148200",
     "status": "completed"
    },
    "tags": []
   },
   "outputs": [
    {
     "data": {
      "text/plain": [
       "0    Unf\n",
       "dtype: object"
      ]
     },
     "execution_count": 22,
     "metadata": {},
     "output_type": "execute_result"
    }
   ],
   "source": [
    "data_missing_2['BsmtFinType2'].mode()"
   ]
  },
  {
   "cell_type": "markdown",
   "id": "36bd75cf",
   "metadata": {
    "papermill": {
     "duration": 0.066947,
     "end_time": "2021-12-08T15:18:43.361225",
     "exception": false,
     "start_time": "2021-12-08T15:18:43.294278",
     "status": "completed"
    },
    "tags": []
   },
   "source": [
    "**In all categorical variables and variables with 0, we replace the missing values to the mode().**"
   ]
  },
  {
   "cell_type": "code",
   "execution_count": 23,
   "id": "9414e628",
   "metadata": {
    "execution": {
     "iopub.execute_input": "2021-12-08T15:18:43.511659Z",
     "iopub.status.busy": "2021-12-08T15:18:43.510917Z",
     "iopub.status.idle": "2021-12-08T15:18:43.527147Z",
     "shell.execute_reply": "2021-12-08T15:18:43.527800Z",
     "shell.execute_reply.started": "2021-11-12T14:50:22.961178Z"
    },
    "papermill": {
     "duration": 0.092129,
     "end_time": "2021-12-08T15:18:43.528006",
     "exception": false,
     "start_time": "2021-12-08T15:18:43.435877",
     "status": "completed"
    },
    "tags": []
   },
   "outputs": [
    {
     "data": {
      "text/html": [
       "<div>\n",
       "<style scoped>\n",
       "    .dataframe tbody tr th:only-of-type {\n",
       "        vertical-align: middle;\n",
       "    }\n",
       "\n",
       "    .dataframe tbody tr th {\n",
       "        vertical-align: top;\n",
       "    }\n",
       "\n",
       "    .dataframe thead th {\n",
       "        text-align: right;\n",
       "    }\n",
       "</style>\n",
       "<table border=\"1\" class=\"dataframe\">\n",
       "  <thead>\n",
       "    <tr style=\"text-align: right;\">\n",
       "      <th></th>\n",
       "      <th>LotFrontage</th>\n",
       "    </tr>\n",
       "  </thead>\n",
       "  <tbody>\n",
       "    <tr>\n",
       "      <th>LotFrontage</th>\n",
       "      <td>1.000000</td>\n",
       "    </tr>\n",
       "    <tr>\n",
       "      <th>1stFlrSF</th>\n",
       "      <td>0.457181</td>\n",
       "    </tr>\n",
       "    <tr>\n",
       "      <th>LotArea</th>\n",
       "      <td>0.426095</td>\n",
       "    </tr>\n",
       "    <tr>\n",
       "      <th>GrLivArea</th>\n",
       "      <td>0.402797</td>\n",
       "    </tr>\n",
       "    <tr>\n",
       "      <th>TotalBsmtSF</th>\n",
       "      <td>0.392075</td>\n",
       "    </tr>\n",
       "    <tr>\n",
       "      <th>MSSubClass</th>\n",
       "      <td>0.386347</td>\n",
       "    </tr>\n",
       "    <tr>\n",
       "      <th>TotRmsAbvGrd</th>\n",
       "      <td>0.352096</td>\n",
       "    </tr>\n",
       "    <tr>\n",
       "      <th>SalePrice</th>\n",
       "      <td>0.351799</td>\n",
       "    </tr>\n",
       "    <tr>\n",
       "      <th>GarageArea</th>\n",
       "      <td>0.344997</td>\n",
       "    </tr>\n",
       "    <tr>\n",
       "      <th>GarageCars</th>\n",
       "      <td>0.285691</td>\n",
       "    </tr>\n",
       "    <tr>\n",
       "      <th>Fireplaces</th>\n",
       "      <td>0.266639</td>\n",
       "    </tr>\n",
       "    <tr>\n",
       "      <th>BedroomAbvGr</th>\n",
       "      <td>0.263170</td>\n",
       "    </tr>\n",
       "    <tr>\n",
       "      <th>OverallQual</th>\n",
       "      <td>0.251646</td>\n",
       "    </tr>\n",
       "    <tr>\n",
       "      <th>BsmtFinSF1</th>\n",
       "      <td>0.233633</td>\n",
       "    </tr>\n",
       "    <tr>\n",
       "      <th>PoolArea</th>\n",
       "      <td>0.206167</td>\n",
       "    </tr>\n",
       "    <tr>\n",
       "      <th>FullBath</th>\n",
       "      <td>0.198769</td>\n",
       "    </tr>\n",
       "    <tr>\n",
       "      <th>MasVnrArea</th>\n",
       "      <td>0.192411</td>\n",
       "    </tr>\n",
       "    <tr>\n",
       "      <th>OpenPorchSF</th>\n",
       "      <td>0.151972</td>\n",
       "    </tr>\n",
       "    <tr>\n",
       "      <th>BsmtUnfSF</th>\n",
       "      <td>0.132644</td>\n",
       "    </tr>\n",
       "    <tr>\n",
       "      <th>YearBuilt</th>\n",
       "      <td>0.123349</td>\n",
       "    </tr>\n",
       "    <tr>\n",
       "      <th>BsmtFullBath</th>\n",
       "      <td>0.100949</td>\n",
       "    </tr>\n",
       "    <tr>\n",
       "      <th>YearRemodAdd</th>\n",
       "      <td>0.088866</td>\n",
       "    </tr>\n",
       "    <tr>\n",
       "      <th>WoodDeckSF</th>\n",
       "      <td>0.088521</td>\n",
       "    </tr>\n",
       "    <tr>\n",
       "      <th>2ndFlrSF</th>\n",
       "      <td>0.080177</td>\n",
       "    </tr>\n",
       "    <tr>\n",
       "      <th>3SsnPorch</th>\n",
       "      <td>0.070029</td>\n",
       "    </tr>\n",
       "    <tr>\n",
       "      <th>OverallCond</th>\n",
       "      <td>0.059213</td>\n",
       "    </tr>\n",
       "    <tr>\n",
       "      <th>HalfBath</th>\n",
       "      <td>0.053532</td>\n",
       "    </tr>\n",
       "    <tr>\n",
       "      <th>BsmtFinSF2</th>\n",
       "      <td>0.049900</td>\n",
       "    </tr>\n",
       "    <tr>\n",
       "      <th>ScreenPorch</th>\n",
       "      <td>0.041383</td>\n",
       "    </tr>\n",
       "    <tr>\n",
       "      <th>GarageYrBlt</th>\n",
       "      <td>0.040788</td>\n",
       "    </tr>\n",
       "    <tr>\n",
       "      <th>LowQualFinSF</th>\n",
       "      <td>0.038469</td>\n",
       "    </tr>\n",
       "    <tr>\n",
       "      <th>MoSold</th>\n",
       "      <td>0.011200</td>\n",
       "    </tr>\n",
       "    <tr>\n",
       "      <th>EnclosedPorch</th>\n",
       "      <td>0.010700</td>\n",
       "    </tr>\n",
       "    <tr>\n",
       "      <th>Id</th>\n",
       "      <td>0.010601</td>\n",
       "    </tr>\n",
       "    <tr>\n",
       "      <th>YrSold</th>\n",
       "      <td>0.007450</td>\n",
       "    </tr>\n",
       "    <tr>\n",
       "      <th>BsmtHalfBath</th>\n",
       "      <td>0.007234</td>\n",
       "    </tr>\n",
       "    <tr>\n",
       "      <th>KitchenAbvGr</th>\n",
       "      <td>0.006069</td>\n",
       "    </tr>\n",
       "    <tr>\n",
       "      <th>MiscVal</th>\n",
       "      <td>0.003368</td>\n",
       "    </tr>\n",
       "  </tbody>\n",
       "</table>\n",
       "</div>"
      ],
      "text/plain": [
       "               LotFrontage\n",
       "LotFrontage       1.000000\n",
       "1stFlrSF          0.457181\n",
       "LotArea           0.426095\n",
       "GrLivArea         0.402797\n",
       "TotalBsmtSF       0.392075\n",
       "MSSubClass        0.386347\n",
       "TotRmsAbvGrd      0.352096\n",
       "SalePrice         0.351799\n",
       "GarageArea        0.344997\n",
       "GarageCars        0.285691\n",
       "Fireplaces        0.266639\n",
       "BedroomAbvGr      0.263170\n",
       "OverallQual       0.251646\n",
       "BsmtFinSF1        0.233633\n",
       "PoolArea          0.206167\n",
       "FullBath          0.198769\n",
       "MasVnrArea        0.192411\n",
       "OpenPorchSF       0.151972\n",
       "BsmtUnfSF         0.132644\n",
       "YearBuilt         0.123349\n",
       "BsmtFullBath      0.100949\n",
       "YearRemodAdd      0.088866\n",
       "WoodDeckSF        0.088521\n",
       "2ndFlrSF          0.080177\n",
       "3SsnPorch         0.070029\n",
       "OverallCond       0.059213\n",
       "HalfBath          0.053532\n",
       "BsmtFinSF2        0.049900\n",
       "ScreenPorch       0.041383\n",
       "GarageYrBlt       0.040788\n",
       "LowQualFinSF      0.038469\n",
       "MoSold            0.011200\n",
       "EnclosedPorch     0.010700\n",
       "Id                0.010601\n",
       "YrSold            0.007450\n",
       "BsmtHalfBath      0.007234\n",
       "KitchenAbvGr      0.006069\n",
       "MiscVal           0.003368"
      ]
     },
     "execution_count": 23,
     "metadata": {},
     "output_type": "execute_result"
    }
   ],
   "source": [
    "pd.DataFrame(data_missing_2.corr()['LotFrontage'].abs()).sort_values('LotFrontage', ascending=False)"
   ]
  },
  {
   "cell_type": "markdown",
   "id": "3b4b0cfc",
   "metadata": {
    "papermill": {
     "duration": 0.084199,
     "end_time": "2021-12-08T15:18:43.697749",
     "exception": false,
     "start_time": "2021-12-08T15:18:43.613550",
     "status": "completed"
    },
    "tags": []
   },
   "source": [
    "**We look at which signs are correlated the most. Building a model, the target variable -  Lot Frontpage.**  \n",
    "  \n",
    "**<li>train - data with the LotFrontage value;**\n",
    "**<li>test - data with missing LotFrontage values.**"
   ]
  },
  {
   "cell_type": "markdown",
   "id": "380488f8",
   "metadata": {
    "papermill": {
     "duration": 0.076849,
     "end_time": "2021-12-08T15:18:43.859575",
     "exception": false,
     "start_time": "2021-12-08T15:18:43.782726",
     "status": "completed"
    },
    "tags": []
   },
   "source": [
    "# Missing values #3"
   ]
  },
  {
   "cell_type": "markdown",
   "id": "85b7e436",
   "metadata": {
    "papermill": {
     "duration": 0.069412,
     "end_time": "2021-12-08T15:18:43.997503",
     "exception": false,
     "start_time": "2021-12-08T15:18:43.928091",
     "status": "completed"
    },
    "tags": []
   },
   "source": [
    "**Replacing Nan with the value 'no_info'**"
   ]
  },
  {
   "cell_type": "code",
   "execution_count": 24,
   "id": "8a943c0c",
   "metadata": {
    "execution": {
     "iopub.execute_input": "2021-12-08T15:18:44.156967Z",
     "iopub.status.busy": "2021-12-08T15:18:44.155523Z",
     "iopub.status.idle": "2021-12-08T15:18:44.160537Z",
     "shell.execute_reply": "2021-12-08T15:18:44.159971Z",
     "shell.execute_reply.started": "2021-11-12T14:50:22.986875Z"
    },
    "papermill": {
     "duration": 0.09255,
     "end_time": "2021-12-08T15:18:44.160688",
     "exception": false,
     "start_time": "2021-12-08T15:18:44.068138",
     "status": "completed"
    },
    "tags": []
   },
   "outputs": [],
   "source": [
    "data_missing_3 = data.copy()"
   ]
  },
  {
   "cell_type": "code",
   "execution_count": 25,
   "id": "28ed9723",
   "metadata": {
    "execution": {
     "iopub.execute_input": "2021-12-08T15:18:44.316684Z",
     "iopub.status.busy": "2021-12-08T15:18:44.316015Z",
     "iopub.status.idle": "2021-12-08T15:18:44.318979Z",
     "shell.execute_reply": "2021-12-08T15:18:44.318425Z",
     "shell.execute_reply.started": "2021-11-12T14:50:22.993335Z"
    },
    "papermill": {
     "duration": 0.089875,
     "end_time": "2021-12-08T15:18:44.319138",
     "exception": false,
     "start_time": "2021-12-08T15:18:44.229263",
     "status": "completed"
    },
    "tags": []
   },
   "outputs": [],
   "source": [
    "data_missing_3.fillna('no_info', inplace=True)"
   ]
  },
  {
   "cell_type": "code",
   "execution_count": 26,
   "id": "a88d0bb6",
   "metadata": {
    "execution": {
     "iopub.execute_input": "2021-12-08T15:18:44.483120Z",
     "iopub.status.busy": "2021-12-08T15:18:44.478619Z",
     "iopub.status.idle": "2021-12-08T15:18:44.487652Z",
     "shell.execute_reply": "2021-12-08T15:18:44.486953Z",
     "shell.execute_reply.started": "2021-11-12T14:50:23.017252Z"
    },
    "papermill": {
     "duration": 0.099778,
     "end_time": "2021-12-08T15:18:44.487827",
     "exception": false,
     "start_time": "2021-12-08T15:18:44.388049",
     "status": "completed"
    },
    "tags": []
   },
   "outputs": [
    {
     "data": {
      "text/plain": [
       "Id               0.0\n",
       "MSSubClass       0.0\n",
       "MSZoning         0.0\n",
       "LotFrontage      0.0\n",
       "LotArea          0.0\n",
       "                ... \n",
       "MoSold           0.0\n",
       "YrSold           0.0\n",
       "SaleType         0.0\n",
       "SaleCondition    0.0\n",
       "SalePrice        0.0\n",
       "Length: 81, dtype: float64"
      ]
     },
     "execution_count": 26,
     "metadata": {},
     "output_type": "execute_result"
    }
   ],
   "source": [
    "data_missing_3.isnull().mean()"
   ]
  },
  {
   "cell_type": "code",
   "execution_count": 27,
   "id": "6e042a0d",
   "metadata": {
    "execution": {
     "iopub.execute_input": "2021-12-08T15:18:44.646261Z",
     "iopub.status.busy": "2021-12-08T15:18:44.634778Z",
     "iopub.status.idle": "2021-12-08T15:18:44.650314Z",
     "shell.execute_reply": "2021-12-08T15:18:44.649722Z",
     "shell.execute_reply.started": "2021-11-12T14:50:23.041908Z"
    },
    "papermill": {
     "duration": 0.090012,
     "end_time": "2021-12-08T15:18:44.650473",
     "exception": false,
     "start_time": "2021-12-08T15:18:44.560461",
     "status": "completed"
    },
    "tags": []
   },
   "outputs": [
    {
     "data": {
      "text/html": [
       "<div>\n",
       "<style scoped>\n",
       "    .dataframe tbody tr th:only-of-type {\n",
       "        vertical-align: middle;\n",
       "    }\n",
       "\n",
       "    .dataframe tbody tr th {\n",
       "        vertical-align: top;\n",
       "    }\n",
       "\n",
       "    .dataframe thead th {\n",
       "        text-align: right;\n",
       "    }\n",
       "</style>\n",
       "<table border=\"1\" class=\"dataframe\">\n",
       "  <thead>\n",
       "    <tr style=\"text-align: right;\">\n",
       "      <th></th>\n",
       "      <th>count</th>\n",
       "      <th>mean</th>\n",
       "      <th>median</th>\n",
       "    </tr>\n",
       "    <tr>\n",
       "      <th>BsmtQual</th>\n",
       "      <th></th>\n",
       "      <th></th>\n",
       "      <th></th>\n",
       "    </tr>\n",
       "  </thead>\n",
       "  <tbody>\n",
       "    <tr>\n",
       "      <th>Ex</th>\n",
       "      <td>121</td>\n",
       "      <td>327041.041322</td>\n",
       "      <td>318000.0</td>\n",
       "    </tr>\n",
       "    <tr>\n",
       "      <th>Fa</th>\n",
       "      <td>35</td>\n",
       "      <td>115692.028571</td>\n",
       "      <td>112000.0</td>\n",
       "    </tr>\n",
       "    <tr>\n",
       "      <th>Gd</th>\n",
       "      <td>618</td>\n",
       "      <td>202688.478964</td>\n",
       "      <td>192070.0</td>\n",
       "    </tr>\n",
       "    <tr>\n",
       "      <th>TA</th>\n",
       "      <td>649</td>\n",
       "      <td>140759.818182</td>\n",
       "      <td>135500.0</td>\n",
       "    </tr>\n",
       "    <tr>\n",
       "      <th>no_info</th>\n",
       "      <td>37</td>\n",
       "      <td>105652.891892</td>\n",
       "      <td>101800.0</td>\n",
       "    </tr>\n",
       "  </tbody>\n",
       "</table>\n",
       "</div>"
      ],
      "text/plain": [
       "          count           mean    median\n",
       "BsmtQual                                \n",
       "Ex          121  327041.041322  318000.0\n",
       "Fa           35  115692.028571  112000.0\n",
       "Gd          618  202688.478964  192070.0\n",
       "TA          649  140759.818182  135500.0\n",
       "no_info      37  105652.891892  101800.0"
      ]
     },
     "execution_count": 27,
     "metadata": {},
     "output_type": "execute_result"
    }
   ],
   "source": [
    "data_missing_3.groupby('BsmtQual')['SalePrice'].agg(['count', 'mean', 'median'])"
   ]
  },
  {
   "cell_type": "markdown",
   "id": "b2b3d000",
   "metadata": {
    "papermill": {
     "duration": 0.068563,
     "end_time": "2021-12-08T15:18:44.790658",
     "exception": false,
     "start_time": "2021-12-08T15:18:44.722095",
     "status": "completed"
    },
    "tags": []
   },
   "source": [
    "**This is necessary for such an analysis of variables**"
   ]
  },
  {
   "cell_type": "markdown",
   "id": "0361edb7",
   "metadata": {
    "papermill": {
     "duration": 0.068789,
     "end_time": "2021-12-08T15:18:44.928786",
     "exception": false,
     "start_time": "2021-12-08T15:18:44.859997",
     "status": "completed"
    },
    "tags": []
   },
   "source": [
    "# Outliers in the target variable"
   ]
  },
  {
   "cell_type": "code",
   "execution_count": 28,
   "id": "f0fe55cc",
   "metadata": {
    "execution": {
     "iopub.execute_input": "2021-12-08T15:18:45.072471Z",
     "iopub.status.busy": "2021-12-08T15:18:45.071749Z",
     "iopub.status.idle": "2021-12-08T15:18:45.438042Z",
     "shell.execute_reply": "2021-12-08T15:18:45.438562Z",
     "shell.execute_reply.started": "2021-11-12T14:50:23.057421Z"
    },
    "papermill": {
     "duration": 0.440567,
     "end_time": "2021-12-08T15:18:45.438733",
     "exception": false,
     "start_time": "2021-12-08T15:18:44.998166",
     "status": "completed"
    },
    "tags": []
   },
   "outputs": [
    {
     "data": {
      "text/plain": [
       "<AxesSubplot:>"
      ]
     },
     "execution_count": 28,
     "metadata": {},
     "output_type": "execute_result"
    },
    {
     "data": {
      "image/png": "[encoded data removed]",
      "text/plain": [
       "<Figure size 432x288 with 1 Axes>"
      ]
     },
     "metadata": {
      "needs_background": "light"
     },
     "output_type": "display_data"
    }
   ],
   "source": [
    "data.SalePrice.hist(bins=45)"
   ]
  },
  {
   "cell_type": "markdown",
   "id": "b9a0aaa8",
   "metadata": {
    "papermill": {
     "duration": 0.069464,
     "end_time": "2021-12-08T15:18:45.578405",
     "exception": false,
     "start_time": "2021-12-08T15:18:45.508941",
     "status": "completed"
    },
    "tags": []
   },
   "source": [
    "# Outliers  - interquartile range"
   ]
  },
  {
   "cell_type": "markdown",
   "id": "6d695efe",
   "metadata": {
    "papermill": {
     "duration": 0.07087,
     "end_time": "2021-12-08T15:18:45.719236",
     "exception": false,
     "start_time": "2021-12-08T15:18:45.648366",
     "status": "completed"
    },
    "tags": []
   },
   "source": [
    "**We remove outliers beyond the 25 and 75 quantile * 1.5**"
   ]
  },
  {
   "cell_type": "code",
   "execution_count": 29,
   "id": "1b7147d5",
   "metadata": {
    "execution": {
     "iopub.execute_input": "2021-12-08T15:18:45.862256Z",
     "iopub.status.busy": "2021-12-08T15:18:45.861601Z",
     "iopub.status.idle": "2021-12-08T15:18:45.866608Z",
     "shell.execute_reply": "2021-12-08T15:18:45.866081Z",
     "shell.execute_reply.started": "2021-11-12T14:50:23.394329Z"
    },
    "papermill": {
     "duration": 0.077552,
     "end_time": "2021-12-08T15:18:45.866753",
     "exception": false,
     "start_time": "2021-12-08T15:18:45.789201",
     "status": "completed"
    },
    "tags": []
   },
   "outputs": [],
   "source": [
    "data_quantile = data.copy()"
   ]
  },
  {
   "cell_type": "code",
   "execution_count": 30,
   "id": "8043c663",
   "metadata": {
    "execution": {
     "iopub.execute_input": "2021-12-08T15:18:46.012878Z",
     "iopub.status.busy": "2021-12-08T15:18:46.012134Z",
     "iopub.status.idle": "2021-12-08T15:18:46.018256Z",
     "shell.execute_reply": "2021-12-08T15:18:46.017649Z",
     "shell.execute_reply.started": "2021-11-12T14:50:23.399332Z"
    },
    "papermill": {
     "duration": 0.081711,
     "end_time": "2021-12-08T15:18:46.018416",
     "exception": false,
     "start_time": "2021-12-08T15:18:45.936705",
     "status": "completed"
    },
    "tags": []
   },
   "outputs": [],
   "source": [
    "IQR = data_quantile.SalePrice.quantile(0.75) - data_quantile.SalePrice.quantile(0.25)"
   ]
  },
  {
   "cell_type": "code",
   "execution_count": 31,
   "id": "c08284ce",
   "metadata": {
    "execution": {
     "iopub.execute_input": "2021-12-08T15:18:46.170474Z",
     "iopub.status.busy": "2021-12-08T15:18:46.169263Z",
     "iopub.status.idle": "2021-12-08T15:18:46.172636Z",
     "shell.execute_reply": "2021-12-08T15:18:46.172063Z",
     "shell.execute_reply.started": "2021-11-12T14:50:23.417287Z"
    },
    "papermill": {
     "duration": 0.081114,
     "end_time": "2021-12-08T15:18:46.172801",
     "exception": false,
     "start_time": "2021-12-08T15:18:46.091687",
     "status": "completed"
    },
    "tags": []
   },
   "outputs": [],
   "source": [
    "Lower = data_quantile.SalePrice.quantile(0.25) - (IQR * 1.5)\n",
    "Upper = data_quantile.SalePrice.quantile(0.75) + (IQR * 1.5)"
   ]
  },
  {
   "cell_type": "code",
   "execution_count": 32,
   "id": "c6e1e76c",
   "metadata": {
    "execution": {
     "iopub.execute_input": "2021-12-08T15:18:46.319770Z",
     "iopub.status.busy": "2021-12-08T15:18:46.318570Z",
     "iopub.status.idle": "2021-12-08T15:18:46.321876Z",
     "shell.execute_reply": "2021-12-08T15:18:46.322383Z",
     "shell.execute_reply.started": "2021-11-12T14:50:23.427516Z"
    },
    "papermill": {
     "duration": 0.079512,
     "end_time": "2021-12-08T15:18:46.322563",
     "exception": false,
     "start_time": "2021-12-08T15:18:46.243051",
     "status": "completed"
    },
    "tags": []
   },
   "outputs": [],
   "source": [
    "data_quantile = data_quantile[data_quantile.SalePrice.between(Lower, Upper)]"
   ]
  },
  {
   "cell_type": "code",
   "execution_count": 33,
   "id": "a66c4ad0",
   "metadata": {
    "execution": {
     "iopub.execute_input": "2021-12-08T15:18:46.484134Z",
     "iopub.status.busy": "2021-12-08T15:18:46.474618Z",
     "iopub.status.idle": "2021-12-08T15:18:46.772455Z",
     "shell.execute_reply": "2021-12-08T15:18:46.773036Z",
     "shell.execute_reply.started": "2021-11-12T14:50:23.440759Z"
    },
    "papermill": {
     "duration": 0.379997,
     "end_time": "2021-12-08T15:18:46.773211",
     "exception": false,
     "start_time": "2021-12-08T15:18:46.393214",
     "status": "completed"
    },
    "tags": []
   },
   "outputs": [
    {
     "data": {
      "text/plain": [
       "<AxesSubplot:>"
      ]
     },
     "execution_count": 33,
     "metadata": {},
     "output_type": "execute_result"
    },
    {
     "data": {
      "image/png": "[encoded data removed]",
      "text/plain": [
       "<Figure size 432x288 with 1 Axes>"
      ]
     },
     "metadata": {
      "needs_background": "light"
     },
     "output_type": "display_data"
    }
   ],
   "source": [
    "data_quantile.SalePrice.hist(bins=45)"
   ]
  },
  {
   "cell_type": "markdown",
   "id": "f741ee8a",
   "metadata": {
    "papermill": {
     "duration": 0.070513,
     "end_time": "2021-12-08T15:18:46.914518",
     "exception": false,
     "start_time": "2021-12-08T15:18:46.844005",
     "status": "completed"
    },
    "tags": []
   },
   "source": [
    "# Outliers  - 3 standard deviations"
   ]
  },
  {
   "cell_type": "code",
   "execution_count": 34,
   "id": "9bc1c4fa",
   "metadata": {
    "execution": {
     "iopub.execute_input": "2021-12-08T15:18:47.061576Z",
     "iopub.status.busy": "2021-12-08T15:18:47.059811Z",
     "iopub.status.idle": "2021-12-08T15:18:47.065229Z",
     "shell.execute_reply": "2021-12-08T15:18:47.064407Z",
     "shell.execute_reply.started": "2021-11-12T14:50:23.740816Z"
    },
    "papermill": {
     "duration": 0.079935,
     "end_time": "2021-12-08T15:18:47.065395",
     "exception": false,
     "start_time": "2021-12-08T15:18:46.985460",
     "status": "completed"
    },
    "tags": []
   },
   "outputs": [],
   "source": [
    "data_std = data.copy()"
   ]
  },
  {
   "cell_type": "code",
   "execution_count": 35,
   "id": "db8ce1ec",
   "metadata": {
    "execution": {
     "iopub.execute_input": "2021-12-08T15:18:47.213439Z",
     "iopub.status.busy": "2021-12-08T15:18:47.212689Z",
     "iopub.status.idle": "2021-12-08T15:18:47.214920Z",
     "shell.execute_reply": "2021-12-08T15:18:47.215445Z",
     "shell.execute_reply.started": "2021-11-12T14:50:23.746808Z"
    },
    "papermill": {
     "duration": 0.07856,
     "end_time": "2021-12-08T15:18:47.215616",
     "exception": false,
     "start_time": "2021-12-08T15:18:47.137056",
     "status": "completed"
    },
    "tags": []
   },
   "outputs": [],
   "source": [
    "std_3 = data_std.SalePrice.std() * 3"
   ]
  },
  {
   "cell_type": "code",
   "execution_count": 36,
   "id": "8252c2c2",
   "metadata": {
    "execution": {
     "iopub.execute_input": "2021-12-08T15:18:47.364244Z",
     "iopub.status.busy": "2021-12-08T15:18:47.363536Z",
     "iopub.status.idle": "2021-12-08T15:18:47.365128Z",
     "shell.execute_reply": "2021-12-08T15:18:47.365725Z",
     "shell.execute_reply.started": "2021-11-12T14:50:23.758335Z"
    },
    "papermill": {
     "duration": 0.079463,
     "end_time": "2021-12-08T15:18:47.365917",
     "exception": false,
     "start_time": "2021-12-08T15:18:47.286454",
     "status": "completed"
    },
    "tags": []
   },
   "outputs": [],
   "source": [
    "mean_sp = data_std.SalePrice.mean()"
   ]
  },
  {
   "cell_type": "code",
   "execution_count": 37,
   "id": "00ff164d",
   "metadata": {
    "execution": {
     "iopub.execute_input": "2021-12-08T15:18:47.514054Z",
     "iopub.status.busy": "2021-12-08T15:18:47.513400Z",
     "iopub.status.idle": "2021-12-08T15:18:47.519396Z",
     "shell.execute_reply": "2021-12-08T15:18:47.519936Z",
     "shell.execute_reply.started": "2021-11-12T14:50:23.769212Z"
    },
    "papermill": {
     "duration": 0.081463,
     "end_time": "2021-12-08T15:18:47.520126",
     "exception": false,
     "start_time": "2021-12-08T15:18:47.438663",
     "status": "completed"
    },
    "tags": []
   },
   "outputs": [],
   "source": [
    "data_std = data_std[data_std.SalePrice.between(mean_sp - std_3, mean_sp + std_3)]"
   ]
  },
  {
   "cell_type": "code",
   "execution_count": 38,
   "id": "40956321",
   "metadata": {
    "execution": {
     "iopub.execute_input": "2021-12-08T15:18:47.695993Z",
     "iopub.status.busy": "2021-12-08T15:18:47.694962Z",
     "iopub.status.idle": "2021-12-08T15:18:48.005751Z",
     "shell.execute_reply": "2021-12-08T15:18:48.006248Z",
     "shell.execute_reply.started": "2021-11-12T14:50:23.780129Z"
    },
    "papermill": {
     "duration": 0.400411,
     "end_time": "2021-12-08T15:18:48.006428",
     "exception": false,
     "start_time": "2021-12-08T15:18:47.606017",
     "status": "completed"
    },
    "tags": []
   },
   "outputs": [
    {
     "data": {
      "text/plain": [
       "<AxesSubplot:>"
      ]
     },
     "execution_count": 38,
     "metadata": {},
     "output_type": "execute_result"
    },
    {
     "data": {
      "image/png": "[encoded data removed]",
      "text/plain": [
       "<Figure size 432x288 with 1 Axes>"
      ]
     },
     "metadata": {
      "needs_background": "light"
     },
     "output_type": "display_data"
    }
   ],
   "source": [
    "data_std.SalePrice.hist(bins=45)"
   ]
  },
  {
   "cell_type": "markdown",
   "id": "7a98ffa6",
   "metadata": {
    "papermill": {
     "duration": 0.07331,
     "end_time": "2021-12-08T15:18:48.151292",
     "exception": false,
     "start_time": "2021-12-08T15:18:48.077982",
     "status": "completed"
    },
    "tags": []
   },
   "source": [
    "# Outliers - specific value"
   ]
  },
  {
   "cell_type": "code",
   "execution_count": 39,
   "id": "ca374103",
   "metadata": {
    "execution": {
     "iopub.execute_input": "2021-12-08T15:18:48.300429Z",
     "iopub.status.busy": "2021-12-08T15:18:48.299312Z",
     "iopub.status.idle": "2021-12-08T15:18:48.303565Z",
     "shell.execute_reply": "2021-12-08T15:18:48.304230Z",
     "shell.execute_reply.started": "2021-11-12T14:50:24.098095Z"
    },
    "papermill": {
     "duration": 0.081218,
     "end_time": "2021-12-08T15:18:48.304408",
     "exception": false,
     "start_time": "2021-12-08T15:18:48.223190",
     "status": "completed"
    },
    "tags": []
   },
   "outputs": [],
   "source": [
    "data_fix = data.copy()"
   ]
  },
  {
   "cell_type": "code",
   "execution_count": 40,
   "id": "ba2e9e5a",
   "metadata": {
    "execution": {
     "iopub.execute_input": "2021-12-08T15:18:48.473710Z",
     "iopub.status.busy": "2021-12-08T15:18:48.472997Z",
     "iopub.status.idle": "2021-12-08T15:18:48.826972Z",
     "shell.execute_reply": "2021-12-08T15:18:48.826454Z",
     "shell.execute_reply.started": "2021-11-12T14:50:24.103914Z"
    },
    "papermill": {
     "duration": 0.450554,
     "end_time": "2021-12-08T15:18:48.827127",
     "exception": false,
     "start_time": "2021-12-08T15:18:48.376573",
     "status": "completed"
    },
    "tags": []
   },
   "outputs": [
    {
     "data": {
      "text/plain": [
       "<AxesSubplot:>"
      ]
     },
     "execution_count": 40,
     "metadata": {},
     "output_type": "execute_result"
    },
    {
     "data": {
      "image/png": "[encoded data removed]",
      "text/plain": [
       "<Figure size 432x288 with 1 Axes>"
      ]
     },
     "metadata": {
      "needs_background": "light"
     },
     "output_type": "display_data"
    }
   ],
   "source": [
    "data_fix.SalePrice.hist(bins=65)"
   ]
  },
  {
   "cell_type": "code",
   "execution_count": 41,
   "id": "a0fd0a65",
   "metadata": {
    "execution": {
     "iopub.execute_input": "2021-12-08T15:18:48.981983Z",
     "iopub.status.busy": "2021-12-08T15:18:48.980211Z",
     "iopub.status.idle": "2021-12-08T15:18:48.984701Z",
     "shell.execute_reply": "2021-12-08T15:18:48.984204Z",
     "shell.execute_reply.started": "2021-11-12T14:50:24.478053Z"
    },
    "papermill": {
     "duration": 0.083806,
     "end_time": "2021-12-08T15:18:48.984888",
     "exception": false,
     "start_time": "2021-12-08T15:18:48.901082",
     "status": "completed"
    },
    "tags": []
   },
   "outputs": [],
   "source": [
    "data_fix = data_fix[data_fix['SalePrice'] <= 500000]"
   ]
  },
  {
   "cell_type": "code",
   "execution_count": 42,
   "id": "5d73e813",
   "metadata": {
    "execution": {
     "iopub.execute_input": "2021-12-08T15:18:49.143489Z",
     "iopub.status.busy": "2021-12-08T15:18:49.142790Z",
     "iopub.status.idle": "2021-12-08T15:18:49.480130Z",
     "shell.execute_reply": "2021-12-08T15:18:49.480668Z",
     "shell.execute_reply.started": "2021-11-12T14:50:24.486377Z"
    },
    "papermill": {
     "duration": 0.422397,
     "end_time": "2021-12-08T15:18:49.480863",
     "exception": false,
     "start_time": "2021-12-08T15:18:49.058466",
     "status": "completed"
    },
    "scrolled": true,
    "tags": []
   },
   "outputs": [
    {
     "data": {
      "text/plain": [
       "<AxesSubplot:>"
      ]
     },
     "execution_count": 42,
     "metadata": {},
     "output_type": "execute_result"
    },
    {
     "data": {
      "image/png": "[encoded data removed]",
      "text/plain": [
       "<Figure size 432x288 with 1 Axes>"
      ]
     },
     "metadata": {
      "needs_background": "light"
     },
     "output_type": "display_data"
    }
   ],
   "source": [
    "data_fix.SalePrice.hist(bins=65)"
   ]
  },
  {
   "cell_type": "code",
   "execution_count": null,
   "id": "802ee5b4",
   "metadata": {
    "papermill": {
     "duration": 0.073899,
     "end_time": "2021-12-08T15:18:49.629892",
     "exception": false,
     "start_time": "2021-12-08T15:18:49.555993",
     "status": "completed"
    },
    "tags": []
   },
   "outputs": [],
   "source": []
  },
  {
   "cell_type": "markdown",
   "id": "145d3136",
   "metadata": {
    "papermill": {
     "duration": 0.073333,
     "end_time": "2021-12-08T15:18:49.777385",
     "exception": false,
     "start_time": "2021-12-08T15:18:49.704052",
     "status": "completed"
    },
    "tags": []
   },
   "source": [
    "# Encoding - LabelEncoder"
   ]
  },
  {
   "cell_type": "markdown",
   "id": "f5bfd732",
   "metadata": {
    "papermill": {
     "duration": 0.073452,
     "end_time": "2021-12-08T15:18:49.924282",
     "exception": false,
     "start_time": "2021-12-08T15:18:49.850830",
     "status": "completed"
    },
    "tags": []
   },
   "source": [
    "**Apply encoding to the data where there are no missing values!**"
   ]
  },
  {
   "cell_type": "code",
   "execution_count": 43,
   "id": "c1fb452b",
   "metadata": {
    "execution": {
     "iopub.execute_input": "2021-12-08T15:18:50.075902Z",
     "iopub.status.busy": "2021-12-08T15:18:50.075192Z",
     "iopub.status.idle": "2021-12-08T15:18:50.078671Z",
     "shell.execute_reply": "2021-12-08T15:18:50.079146Z",
     "shell.execute_reply.started": "2021-11-12T14:50:24.830489Z"
    },
    "papermill": {
     "duration": 0.081211,
     "end_time": "2021-12-08T15:18:50.079333",
     "exception": false,
     "start_time": "2021-12-08T15:18:49.998122",
     "status": "completed"
    },
    "tags": []
   },
   "outputs": [],
   "source": [
    "data_type = pd.DataFrame(data_missing_2.dtypes)"
   ]
  },
  {
   "cell_type": "code",
   "execution_count": 44,
   "id": "bfb25129",
   "metadata": {
    "execution": {
     "iopub.execute_input": "2021-12-08T15:18:50.230907Z",
     "iopub.status.busy": "2021-12-08T15:18:50.230215Z",
     "iopub.status.idle": "2021-12-08T15:18:50.237943Z",
     "shell.execute_reply": "2021-12-08T15:18:50.238437Z",
     "shell.execute_reply.started": "2021-11-12T14:50:24.836161Z"
    },
    "papermill": {
     "duration": 0.085133,
     "end_time": "2021-12-08T15:18:50.238614",
     "exception": false,
     "start_time": "2021-12-08T15:18:50.153481",
     "status": "completed"
    },
    "scrolled": true,
    "tags": []
   },
   "outputs": [
    {
     "data": {
      "text/plain": [
       "Index(['MSZoning', 'Street', 'LotShape', 'LandContour', 'Utilities',\n",
       "       'LotConfig', 'LandSlope', 'Neighborhood', 'Condition1', 'Condition2',\n",
       "       'BldgType', 'HouseStyle', 'RoofStyle', 'RoofMatl', 'Exterior1st',\n",
       "       'Exterior2nd', 'MasVnrType', 'ExterQual', 'ExterCond', 'Foundation',\n",
       "       'BsmtQual', 'BsmtCond', 'BsmtExposure', 'BsmtFinType1', 'BsmtFinType2',\n",
       "       'Heating', 'HeatingQC', 'CentralAir', 'Electrical', 'KitchenQual',\n",
       "       'Functional', 'GarageType', 'GarageFinish', 'GarageQual', 'GarageCond',\n",
       "       'PavedDrive', 'SaleType', 'SaleCondition'],\n",
       "      dtype='object')"
      ]
     },
     "execution_count": 44,
     "metadata": {},
     "output_type": "execute_result"
    }
   ],
   "source": [
    "data_type[data_type[0] == 'object'].T.columns"
   ]
  },
  {
   "cell_type": "code",
   "execution_count": 45,
   "id": "81eb8bdb",
   "metadata": {
    "execution": {
     "iopub.execute_input": "2021-12-08T15:18:50.392196Z",
     "iopub.status.busy": "2021-12-08T15:18:50.391472Z",
     "iopub.status.idle": "2021-12-08T15:18:50.422970Z",
     "shell.execute_reply": "2021-12-08T15:18:50.423498Z",
     "shell.execute_reply.started": "2021-11-12T14:50:24.85375Z"
    },
    "papermill": {
     "duration": 0.110099,
     "end_time": "2021-12-08T15:18:50.423676",
     "exception": false,
     "start_time": "2021-12-08T15:18:50.313577",
     "status": "completed"
    },
    "tags": []
   },
   "outputs": [
    {
     "data": {
      "text/html": [
       "<div>\n",
       "<style scoped>\n",
       "    .dataframe tbody tr th:only-of-type {\n",
       "        vertical-align: middle;\n",
       "    }\n",
       "\n",
       "    .dataframe tbody tr th {\n",
       "        vertical-align: top;\n",
       "    }\n",
       "\n",
       "    .dataframe thead th {\n",
       "        text-align: right;\n",
       "    }\n",
       "</style>\n",
       "<table border=\"1\" class=\"dataframe\">\n",
       "  <thead>\n",
       "    <tr style=\"text-align: right;\">\n",
       "      <th></th>\n",
       "      <th>MSZoning</th>\n",
       "      <th>Street</th>\n",
       "      <th>LotShape</th>\n",
       "      <th>LandContour</th>\n",
       "      <th>Utilities</th>\n",
       "      <th>LotConfig</th>\n",
       "      <th>LandSlope</th>\n",
       "      <th>Neighborhood</th>\n",
       "      <th>Condition1</th>\n",
       "      <th>Condition2</th>\n",
       "      <th>...</th>\n",
       "      <th>Electrical</th>\n",
       "      <th>KitchenQual</th>\n",
       "      <th>Functional</th>\n",
       "      <th>GarageType</th>\n",
       "      <th>GarageFinish</th>\n",
       "      <th>GarageQual</th>\n",
       "      <th>GarageCond</th>\n",
       "      <th>PavedDrive</th>\n",
       "      <th>SaleType</th>\n",
       "      <th>SaleCondition</th>\n",
       "    </tr>\n",
       "  </thead>\n",
       "  <tbody>\n",
       "    <tr>\n",
       "      <th>0</th>\n",
       "      <td>RL</td>\n",
       "      <td>Pave</td>\n",
       "      <td>Reg</td>\n",
       "      <td>Lvl</td>\n",
       "      <td>AllPub</td>\n",
       "      <td>Inside</td>\n",
       "      <td>Gtl</td>\n",
       "      <td>CollgCr</td>\n",
       "      <td>Norm</td>\n",
       "      <td>Norm</td>\n",
       "      <td>...</td>\n",
       "      <td>SBrkr</td>\n",
       "      <td>Gd</td>\n",
       "      <td>Typ</td>\n",
       "      <td>Attchd</td>\n",
       "      <td>RFn</td>\n",
       "      <td>TA</td>\n",
       "      <td>TA</td>\n",
       "      <td>Y</td>\n",
       "      <td>WD</td>\n",
       "      <td>Normal</td>\n",
       "    </tr>\n",
       "    <tr>\n",
       "      <th>1</th>\n",
       "      <td>RL</td>\n",
       "      <td>Pave</td>\n",
       "      <td>Reg</td>\n",
       "      <td>Lvl</td>\n",
       "      <td>AllPub</td>\n",
       "      <td>FR2</td>\n",
       "      <td>Gtl</td>\n",
       "      <td>Veenker</td>\n",
       "      <td>Feedr</td>\n",
       "      <td>Norm</td>\n",
       "      <td>...</td>\n",
       "      <td>SBrkr</td>\n",
       "      <td>TA</td>\n",
       "      <td>Typ</td>\n",
       "      <td>Attchd</td>\n",
       "      <td>RFn</td>\n",
       "      <td>TA</td>\n",
       "      <td>TA</td>\n",
       "      <td>Y</td>\n",
       "      <td>WD</td>\n",
       "      <td>Normal</td>\n",
       "    </tr>\n",
       "    <tr>\n",
       "      <th>2</th>\n",
       "      <td>RL</td>\n",
       "      <td>Pave</td>\n",
       "      <td>IR1</td>\n",
       "      <td>Lvl</td>\n",
       "      <td>AllPub</td>\n",
       "      <td>Inside</td>\n",
       "      <td>Gtl</td>\n",
       "      <td>CollgCr</td>\n",
       "      <td>Norm</td>\n",
       "      <td>Norm</td>\n",
       "      <td>...</td>\n",
       "      <td>SBrkr</td>\n",
       "      <td>Gd</td>\n",
       "      <td>Typ</td>\n",
       "      <td>Attchd</td>\n",
       "      <td>RFn</td>\n",
       "      <td>TA</td>\n",
       "      <td>TA</td>\n",
       "      <td>Y</td>\n",
       "      <td>WD</td>\n",
       "      <td>Normal</td>\n",
       "    </tr>\n",
       "    <tr>\n",
       "      <th>3</th>\n",
       "      <td>RL</td>\n",
       "      <td>Pave</td>\n",
       "      <td>IR1</td>\n",
       "      <td>Lvl</td>\n",
       "      <td>AllPub</td>\n",
       "      <td>Corner</td>\n",
       "      <td>Gtl</td>\n",
       "      <td>Crawfor</td>\n",
       "      <td>Norm</td>\n",
       "      <td>Norm</td>\n",
       "      <td>...</td>\n",
       "      <td>SBrkr</td>\n",
       "      <td>Gd</td>\n",
       "      <td>Typ</td>\n",
       "      <td>Detchd</td>\n",
       "      <td>Unf</td>\n",
       "      <td>TA</td>\n",
       "      <td>TA</td>\n",
       "      <td>Y</td>\n",
       "      <td>WD</td>\n",
       "      <td>Abnorml</td>\n",
       "    </tr>\n",
       "    <tr>\n",
       "      <th>4</th>\n",
       "      <td>RL</td>\n",
       "      <td>Pave</td>\n",
       "      <td>IR1</td>\n",
       "      <td>Lvl</td>\n",
       "      <td>AllPub</td>\n",
       "      <td>FR2</td>\n",
       "      <td>Gtl</td>\n",
       "      <td>NoRidge</td>\n",
       "      <td>Norm</td>\n",
       "      <td>Norm</td>\n",
       "      <td>...</td>\n",
       "      <td>SBrkr</td>\n",
       "      <td>Gd</td>\n",
       "      <td>Typ</td>\n",
       "      <td>Attchd</td>\n",
       "      <td>RFn</td>\n",
       "      <td>TA</td>\n",
       "      <td>TA</td>\n",
       "      <td>Y</td>\n",
       "      <td>WD</td>\n",
       "      <td>Normal</td>\n",
       "    </tr>\n",
       "    <tr>\n",
       "      <th>...</th>\n",
       "      <td>...</td>\n",
       "      <td>...</td>\n",
       "      <td>...</td>\n",
       "      <td>...</td>\n",
       "      <td>...</td>\n",
       "      <td>...</td>\n",
       "      <td>...</td>\n",
       "      <td>...</td>\n",
       "      <td>...</td>\n",
       "      <td>...</td>\n",
       "      <td>...</td>\n",
       "      <td>...</td>\n",
       "      <td>...</td>\n",
       "      <td>...</td>\n",
       "      <td>...</td>\n",
       "      <td>...</td>\n",
       "      <td>...</td>\n",
       "      <td>...</td>\n",
       "      <td>...</td>\n",
       "      <td>...</td>\n",
       "      <td>...</td>\n",
       "    </tr>\n",
       "    <tr>\n",
       "      <th>1455</th>\n",
       "      <td>RL</td>\n",
       "      <td>Pave</td>\n",
       "      <td>Reg</td>\n",
       "      <td>Lvl</td>\n",
       "      <td>AllPub</td>\n",
       "      <td>Inside</td>\n",
       "      <td>Gtl</td>\n",
       "      <td>Gilbert</td>\n",
       "      <td>Norm</td>\n",
       "      <td>Norm</td>\n",
       "      <td>...</td>\n",
       "      <td>SBrkr</td>\n",
       "      <td>TA</td>\n",
       "      <td>Typ</td>\n",
       "      <td>Attchd</td>\n",
       "      <td>RFn</td>\n",
       "      <td>TA</td>\n",
       "      <td>TA</td>\n",
       "      <td>Y</td>\n",
       "      <td>WD</td>\n",
       "      <td>Normal</td>\n",
       "    </tr>\n",
       "    <tr>\n",
       "      <th>1456</th>\n",
       "      <td>RL</td>\n",
       "      <td>Pave</td>\n",
       "      <td>Reg</td>\n",
       "      <td>Lvl</td>\n",
       "      <td>AllPub</td>\n",
       "      <td>Inside</td>\n",
       "      <td>Gtl</td>\n",
       "      <td>NWAmes</td>\n",
       "      <td>Norm</td>\n",
       "      <td>Norm</td>\n",
       "      <td>...</td>\n",
       "      <td>SBrkr</td>\n",
       "      <td>TA</td>\n",
       "      <td>Min1</td>\n",
       "      <td>Attchd</td>\n",
       "      <td>Unf</td>\n",
       "      <td>TA</td>\n",
       "      <td>TA</td>\n",
       "      <td>Y</td>\n",
       "      <td>WD</td>\n",
       "      <td>Normal</td>\n",
       "    </tr>\n",
       "    <tr>\n",
       "      <th>1457</th>\n",
       "      <td>RL</td>\n",
       "      <td>Pave</td>\n",
       "      <td>Reg</td>\n",
       "      <td>Lvl</td>\n",
       "      <td>AllPub</td>\n",
       "      <td>Inside</td>\n",
       "      <td>Gtl</td>\n",
       "      <td>Crawfor</td>\n",
       "      <td>Norm</td>\n",
       "      <td>Norm</td>\n",
       "      <td>...</td>\n",
       "      <td>SBrkr</td>\n",
       "      <td>Gd</td>\n",
       "      <td>Typ</td>\n",
       "      <td>Attchd</td>\n",
       "      <td>RFn</td>\n",
       "      <td>TA</td>\n",
       "      <td>TA</td>\n",
       "      <td>Y</td>\n",
       "      <td>WD</td>\n",
       "      <td>Normal</td>\n",
       "    </tr>\n",
       "    <tr>\n",
       "      <th>1458</th>\n",
       "      <td>RL</td>\n",
       "      <td>Pave</td>\n",
       "      <td>Reg</td>\n",
       "      <td>Lvl</td>\n",
       "      <td>AllPub</td>\n",
       "      <td>Inside</td>\n",
       "      <td>Gtl</td>\n",
       "      <td>NAmes</td>\n",
       "      <td>Norm</td>\n",
       "      <td>Norm</td>\n",
       "      <td>...</td>\n",
       "      <td>FuseA</td>\n",
       "      <td>Gd</td>\n",
       "      <td>Typ</td>\n",
       "      <td>Attchd</td>\n",
       "      <td>Unf</td>\n",
       "      <td>TA</td>\n",
       "      <td>TA</td>\n",
       "      <td>Y</td>\n",
       "      <td>WD</td>\n",
       "      <td>Normal</td>\n",
       "    </tr>\n",
       "    <tr>\n",
       "      <th>1459</th>\n",
       "      <td>RL</td>\n",
       "      <td>Pave</td>\n",
       "      <td>Reg</td>\n",
       "      <td>Lvl</td>\n",
       "      <td>AllPub</td>\n",
       "      <td>Inside</td>\n",
       "      <td>Gtl</td>\n",
       "      <td>Edwards</td>\n",
       "      <td>Norm</td>\n",
       "      <td>Norm</td>\n",
       "      <td>...</td>\n",
       "      <td>SBrkr</td>\n",
       "      <td>TA</td>\n",
       "      <td>Typ</td>\n",
       "      <td>Attchd</td>\n",
       "      <td>Fin</td>\n",
       "      <td>TA</td>\n",
       "      <td>TA</td>\n",
       "      <td>Y</td>\n",
       "      <td>WD</td>\n",
       "      <td>Normal</td>\n",
       "    </tr>\n",
       "  </tbody>\n",
       "</table>\n",
       "<p>1460 rows × 38 columns</p>\n",
       "</div>"
      ],
      "text/plain": [
       "     MSZoning Street LotShape LandContour Utilities LotConfig LandSlope  \\\n",
       "0          RL   Pave      Reg         Lvl    AllPub    Inside       Gtl   \n",
       "1          RL   Pave      Reg         Lvl    AllPub       FR2       Gtl   \n",
       "2          RL   Pave      IR1         Lvl    AllPub    Inside       Gtl   \n",
       "3          RL   Pave      IR1         Lvl    AllPub    Corner       Gtl   \n",
       "4          RL   Pave      IR1         Lvl    AllPub       FR2       Gtl   \n",
       "...       ...    ...      ...         ...       ...       ...       ...   \n",
       "1455       RL   Pave      Reg         Lvl    AllPub    Inside       Gtl   \n",
       "1456       RL   Pave      Reg         Lvl    AllPub    Inside       Gtl   \n",
       "1457       RL   Pave      Reg         Lvl    AllPub    Inside       Gtl   \n",
       "1458       RL   Pave      Reg         Lvl    AllPub    Inside       Gtl   \n",
       "1459       RL   Pave      Reg         Lvl    AllPub    Inside       Gtl   \n",
       "\n",
       "     Neighborhood Condition1 Condition2  ... Electrical KitchenQual  \\\n",
       "0         CollgCr       Norm       Norm  ...      SBrkr          Gd   \n",
       "1         Veenker      Feedr       Norm  ...      SBrkr          TA   \n",
       "2         CollgCr       Norm       Norm  ...      SBrkr          Gd   \n",
       "3         Crawfor       Norm       Norm  ...      SBrkr          Gd   \n",
       "4         NoRidge       Norm       Norm  ...      SBrkr          Gd   \n",
       "...           ...        ...        ...  ...        ...         ...   \n",
       "1455      Gilbert       Norm       Norm  ...      SBrkr          TA   \n",
       "1456       NWAmes       Norm       Norm  ...      SBrkr          TA   \n",
       "1457      Crawfor       Norm       Norm  ...      SBrkr          Gd   \n",
       "1458        NAmes       Norm       Norm  ...      FuseA          Gd   \n",
       "1459      Edwards       Norm       Norm  ...      SBrkr          TA   \n",
       "\n",
       "     Functional GarageType GarageFinish GarageQual GarageCond PavedDrive  \\\n",
       "0           Typ     Attchd          RFn         TA         TA          Y   \n",
       "1           Typ     Attchd          RFn         TA         TA          Y   \n",
       "2           Typ     Attchd          RFn         TA         TA          Y   \n",
       "3           Typ     Detchd          Unf         TA         TA          Y   \n",
       "4           Typ     Attchd          RFn         TA         TA          Y   \n",
       "...         ...        ...          ...        ...        ...        ...   \n",
       "1455        Typ     Attchd          RFn         TA         TA          Y   \n",
       "1456       Min1     Attchd          Unf         TA         TA          Y   \n",
       "1457        Typ     Attchd          RFn         TA         TA          Y   \n",
       "1458        Typ     Attchd          Unf         TA         TA          Y   \n",
       "1459        Typ     Attchd          Fin         TA         TA          Y   \n",
       "\n",
       "     SaleType SaleCondition  \n",
       "0          WD        Normal  \n",
       "1          WD        Normal  \n",
       "2          WD        Normal  \n",
       "3          WD       Abnorml  \n",
       "4          WD        Normal  \n",
       "...       ...           ...  \n",
       "1455       WD        Normal  \n",
       "1456       WD        Normal  \n",
       "1457       WD        Normal  \n",
       "1458       WD        Normal  \n",
       "1459       WD        Normal  \n",
       "\n",
       "[1460 rows x 38 columns]"
      ]
     },
     "execution_count": 45,
     "metadata": {},
     "output_type": "execute_result"
    }
   ],
   "source": [
    "data_missing_2[['MSZoning', 'Street', 'LotShape', 'LandContour', 'Utilities',\n",
    "       'LotConfig', 'LandSlope', 'Neighborhood', 'Condition1', 'Condition2',\n",
    "       'BldgType', 'HouseStyle', 'RoofStyle', 'RoofMatl', 'Exterior1st',\n",
    "       'Exterior2nd', 'MasVnrType', 'ExterQual', 'ExterCond', 'Foundation',\n",
    "       'BsmtQual', 'BsmtCond', 'BsmtExposure', 'BsmtFinType1', 'BsmtFinType2',\n",
    "       'Heating', 'HeatingQC', 'CentralAir', 'Electrical', 'KitchenQual',\n",
    "       'Functional', 'GarageType', 'GarageFinish', 'GarageQual', 'GarageCond',\n",
    "       'PavedDrive', 'SaleType', 'SaleCondition']]"
   ]
  },
  {
   "cell_type": "code",
   "execution_count": 46,
   "id": "c42a56c7",
   "metadata": {
    "execution": {
     "iopub.execute_input": "2021-12-08T15:18:50.578693Z",
     "iopub.status.busy": "2021-12-08T15:18:50.577975Z",
     "iopub.status.idle": "2021-12-08T15:18:50.583197Z",
     "shell.execute_reply": "2021-12-08T15:18:50.583700Z",
     "shell.execute_reply.started": "2021-11-12T14:50:24.890409Z"
    },
    "papermill": {
     "duration": 0.083838,
     "end_time": "2021-12-08T15:18:50.583903",
     "exception": false,
     "start_time": "2021-12-08T15:18:50.500065",
     "status": "completed"
    },
    "tags": []
   },
   "outputs": [],
   "source": [
    "col_encoder = ['MSZoning', 'Street', 'LotShape', 'LandContour', 'Utilities',\n",
    "       'LotConfig', 'LandSlope', 'Neighborhood', 'Condition1', 'Condition2',\n",
    "       'BldgType', 'HouseStyle', 'RoofStyle', 'RoofMatl', 'Exterior1st',\n",
    "       'Exterior2nd', 'MasVnrType', 'ExterQual', 'ExterCond', 'Foundation',\n",
    "       'BsmtQual', 'BsmtCond', 'BsmtExposure', 'BsmtFinType1', 'BsmtFinType2',\n",
    "       'Heating', 'HeatingQC', 'CentralAir', 'Electrical', 'KitchenQual',\n",
    "       'Functional', 'GarageType', 'GarageFinish', 'GarageQual', 'GarageCond',\n",
    "       'PavedDrive', 'SaleType', 'SaleCondition']"
   ]
  },
  {
   "cell_type": "code",
   "execution_count": 47,
   "id": "c3a5ee03",
   "metadata": {
    "execution": {
     "iopub.execute_input": "2021-12-08T15:18:50.745561Z",
     "iopub.status.busy": "2021-12-08T15:18:50.744884Z",
     "iopub.status.idle": "2021-12-08T15:18:50.788572Z",
     "shell.execute_reply": "2021-12-08T15:18:50.789134Z",
     "shell.execute_reply.started": "2021-11-12T14:50:24.898575Z"
    },
    "papermill": {
     "duration": 0.12402,
     "end_time": "2021-12-08T15:18:50.789342",
     "exception": false,
     "start_time": "2021-12-08T15:18:50.665322",
     "status": "completed"
    },
    "tags": []
   },
   "outputs": [],
   "source": [
    "labelencoder = LabelEncoder()\n",
    "for i in col_encoder:\n",
    "    data_missing_2[i] = labelencoder.fit_transform(data_missing_2[i])"
   ]
  },
  {
   "cell_type": "code",
   "execution_count": 48,
   "id": "6d89d9c3",
   "metadata": {
    "execution": {
     "iopub.execute_input": "2021-12-08T15:18:50.974841Z",
     "iopub.status.busy": "2021-12-08T15:18:50.974194Z",
     "iopub.status.idle": "2021-12-08T15:18:50.993644Z",
     "shell.execute_reply": "2021-12-08T15:18:50.994198Z",
     "shell.execute_reply.started": "2021-11-12T14:50:24.948739Z"
    },
    "papermill": {
     "duration": 0.114484,
     "end_time": "2021-12-08T15:18:50.994378",
     "exception": false,
     "start_time": "2021-12-08T15:18:50.879894",
     "status": "completed"
    },
    "tags": []
   },
   "outputs": [
    {
     "data": {
      "text/html": [
       "<div>\n",
       "<style scoped>\n",
       "    .dataframe tbody tr th:only-of-type {\n",
       "        vertical-align: middle;\n",
       "    }\n",
       "\n",
       "    .dataframe tbody tr th {\n",
       "        vertical-align: top;\n",
       "    }\n",
       "\n",
       "    .dataframe thead th {\n",
       "        text-align: right;\n",
       "    }\n",
       "</style>\n",
       "<table border=\"1\" class=\"dataframe\">\n",
       "  <thead>\n",
       "    <tr style=\"text-align: right;\">\n",
       "      <th></th>\n",
       "      <th>Id</th>\n",
       "      <th>MSSubClass</th>\n",
       "      <th>MSZoning</th>\n",
       "      <th>LotFrontage</th>\n",
       "      <th>LotArea</th>\n",
       "      <th>Street</th>\n",
       "      <th>LotShape</th>\n",
       "      <th>LandContour</th>\n",
       "      <th>Utilities</th>\n",
       "      <th>LotConfig</th>\n",
       "      <th>...</th>\n",
       "      <th>EnclosedPorch</th>\n",
       "      <th>3SsnPorch</th>\n",
       "      <th>ScreenPorch</th>\n",
       "      <th>PoolArea</th>\n",
       "      <th>MiscVal</th>\n",
       "      <th>MoSold</th>\n",
       "      <th>YrSold</th>\n",
       "      <th>SaleType</th>\n",
       "      <th>SaleCondition</th>\n",
       "      <th>SalePrice</th>\n",
       "    </tr>\n",
       "  </thead>\n",
       "  <tbody>\n",
       "    <tr>\n",
       "      <th>0</th>\n",
       "      <td>1</td>\n",
       "      <td>60</td>\n",
       "      <td>3</td>\n",
       "      <td>65.0</td>\n",
       "      <td>8450</td>\n",
       "      <td>1</td>\n",
       "      <td>3</td>\n",
       "      <td>3</td>\n",
       "      <td>0</td>\n",
       "      <td>4</td>\n",
       "      <td>...</td>\n",
       "      <td>0</td>\n",
       "      <td>0</td>\n",
       "      <td>0</td>\n",
       "      <td>0</td>\n",
       "      <td>0</td>\n",
       "      <td>2</td>\n",
       "      <td>2008</td>\n",
       "      <td>8</td>\n",
       "      <td>4</td>\n",
       "      <td>208500</td>\n",
       "    </tr>\n",
       "    <tr>\n",
       "      <th>1</th>\n",
       "      <td>2</td>\n",
       "      <td>20</td>\n",
       "      <td>3</td>\n",
       "      <td>80.0</td>\n",
       "      <td>9600</td>\n",
       "      <td>1</td>\n",
       "      <td>3</td>\n",
       "      <td>3</td>\n",
       "      <td>0</td>\n",
       "      <td>2</td>\n",
       "      <td>...</td>\n",
       "      <td>0</td>\n",
       "      <td>0</td>\n",
       "      <td>0</td>\n",
       "      <td>0</td>\n",
       "      <td>0</td>\n",
       "      <td>5</td>\n",
       "      <td>2007</td>\n",
       "      <td>8</td>\n",
       "      <td>4</td>\n",
       "      <td>181500</td>\n",
       "    </tr>\n",
       "    <tr>\n",
       "      <th>2</th>\n",
       "      <td>3</td>\n",
       "      <td>60</td>\n",
       "      <td>3</td>\n",
       "      <td>68.0</td>\n",
       "      <td>11250</td>\n",
       "      <td>1</td>\n",
       "      <td>0</td>\n",
       "      <td>3</td>\n",
       "      <td>0</td>\n",
       "      <td>4</td>\n",
       "      <td>...</td>\n",
       "      <td>0</td>\n",
       "      <td>0</td>\n",
       "      <td>0</td>\n",
       "      <td>0</td>\n",
       "      <td>0</td>\n",
       "      <td>9</td>\n",
       "      <td>2008</td>\n",
       "      <td>8</td>\n",
       "      <td>4</td>\n",
       "      <td>223500</td>\n",
       "    </tr>\n",
       "    <tr>\n",
       "      <th>3</th>\n",
       "      <td>4</td>\n",
       "      <td>70</td>\n",
       "      <td>3</td>\n",
       "      <td>60.0</td>\n",
       "      <td>9550</td>\n",
       "      <td>1</td>\n",
       "      <td>0</td>\n",
       "      <td>3</td>\n",
       "      <td>0</td>\n",
       "      <td>0</td>\n",
       "      <td>...</td>\n",
       "      <td>272</td>\n",
       "      <td>0</td>\n",
       "      <td>0</td>\n",
       "      <td>0</td>\n",
       "      <td>0</td>\n",
       "      <td>2</td>\n",
       "      <td>2006</td>\n",
       "      <td>8</td>\n",
       "      <td>0</td>\n",
       "      <td>140000</td>\n",
       "    </tr>\n",
       "    <tr>\n",
       "      <th>4</th>\n",
       "      <td>5</td>\n",
       "      <td>60</td>\n",
       "      <td>3</td>\n",
       "      <td>84.0</td>\n",
       "      <td>14260</td>\n",
       "      <td>1</td>\n",
       "      <td>0</td>\n",
       "      <td>3</td>\n",
       "      <td>0</td>\n",
       "      <td>2</td>\n",
       "      <td>...</td>\n",
       "      <td>0</td>\n",
       "      <td>0</td>\n",
       "      <td>0</td>\n",
       "      <td>0</td>\n",
       "      <td>0</td>\n",
       "      <td>12</td>\n",
       "      <td>2008</td>\n",
       "      <td>8</td>\n",
       "      <td>4</td>\n",
       "      <td>250000</td>\n",
       "    </tr>\n",
       "  </tbody>\n",
       "</table>\n",
       "<p>5 rows × 76 columns</p>\n",
       "</div>"
      ],
      "text/plain": [
       "   Id  MSSubClass  MSZoning  LotFrontage  LotArea  Street  LotShape  \\\n",
       "0   1          60         3         65.0     8450       1         3   \n",
       "1   2          20         3         80.0     9600       1         3   \n",
       "2   3          60         3         68.0    11250       1         0   \n",
       "3   4          70         3         60.0     9550       1         0   \n",
       "4   5          60         3         84.0    14260       1         0   \n",
       "\n",
       "   LandContour  Utilities  LotConfig  ...  EnclosedPorch  3SsnPorch  \\\n",
       "0            3          0          4  ...              0          0   \n",
       "1            3          0          2  ...              0          0   \n",
       "2            3          0          4  ...              0          0   \n",
       "3            3          0          0  ...            272          0   \n",
       "4            3          0          2  ...              0          0   \n",
       "\n",
       "   ScreenPorch  PoolArea  MiscVal  MoSold  YrSold  SaleType  SaleCondition  \\\n",
       "0            0         0        0       2    2008         8              4   \n",
       "1            0         0        0       5    2007         8              4   \n",
       "2            0         0        0       9    2008         8              4   \n",
       "3            0         0        0       2    2006         8              0   \n",
       "4            0         0        0      12    2008         8              4   \n",
       "\n",
       "   SalePrice  \n",
       "0     208500  \n",
       "1     181500  \n",
       "2     223500  \n",
       "3     140000  \n",
       "4     250000  \n",
       "\n",
       "[5 rows x 76 columns]"
      ]
     },
     "execution_count": 48,
     "metadata": {},
     "output_type": "execute_result"
    }
   ],
   "source": [
    "data_missing_2.head()"
   ]
  },
  {
   "cell_type": "markdown",
   "id": "da9bfe95",
   "metadata": {
    "papermill": {
     "duration": 0.075309,
     "end_time": "2021-12-08T15:18:51.145383",
     "exception": false,
     "start_time": "2021-12-08T15:18:51.070074",
     "status": "completed"
    },
    "tags": []
   },
   "source": [
    "# Encoding - get_dummies"
   ]
  },
  {
   "cell_type": "markdown",
   "id": "afb66f9a",
   "metadata": {
    "papermill": {
     "duration": 0.075408,
     "end_time": "2021-12-08T15:18:51.296427",
     "exception": false,
     "start_time": "2021-12-08T15:18:51.221019",
     "status": "completed"
    },
    "tags": []
   },
   "source": [
    "**Transform all signs with the type 'object' into values 1 / 0**"
   ]
  },
  {
   "cell_type": "code",
   "execution_count": 49,
   "id": "41e79a40",
   "metadata": {
    "execution": {
     "iopub.execute_input": "2021-12-08T15:18:51.451578Z",
     "iopub.status.busy": "2021-12-08T15:18:51.450931Z",
     "iopub.status.idle": "2021-12-08T15:18:51.461446Z",
     "shell.execute_reply": "2021-12-08T15:18:51.462031Z",
     "shell.execute_reply.started": "2021-11-12T14:50:24.973987Z"
    },
    "papermill": {
     "duration": 0.090294,
     "end_time": "2021-12-08T15:18:51.462219",
     "exception": false,
     "start_time": "2021-12-08T15:18:51.371925",
     "status": "completed"
    },
    "tags": []
   },
   "outputs": [
    {
     "data": {
      "text/html": [
       "<div>\n",
       "<style scoped>\n",
       "    .dataframe tbody tr th:only-of-type {\n",
       "        vertical-align: middle;\n",
       "    }\n",
       "\n",
       "    .dataframe tbody tr th {\n",
       "        vertical-align: top;\n",
       "    }\n",
       "\n",
       "    .dataframe thead th {\n",
       "        text-align: right;\n",
       "    }\n",
       "</style>\n",
       "<table border=\"1\" class=\"dataframe\">\n",
       "  <thead>\n",
       "    <tr style=\"text-align: right;\">\n",
       "      <th></th>\n",
       "      <th>0</th>\n",
       "    </tr>\n",
       "  </thead>\n",
       "  <tbody>\n",
       "    <tr>\n",
       "      <th>Id</th>\n",
       "      <td>int64</td>\n",
       "    </tr>\n",
       "    <tr>\n",
       "      <th>MSSubClass</th>\n",
       "      <td>int64</td>\n",
       "    </tr>\n",
       "    <tr>\n",
       "      <th>MSZoning</th>\n",
       "      <td>object</td>\n",
       "    </tr>\n",
       "    <tr>\n",
       "      <th>LotFrontage</th>\n",
       "      <td>float64</td>\n",
       "    </tr>\n",
       "    <tr>\n",
       "      <th>LotArea</th>\n",
       "      <td>int64</td>\n",
       "    </tr>\n",
       "    <tr>\n",
       "      <th>...</th>\n",
       "      <td>...</td>\n",
       "    </tr>\n",
       "    <tr>\n",
       "      <th>MoSold</th>\n",
       "      <td>int64</td>\n",
       "    </tr>\n",
       "    <tr>\n",
       "      <th>YrSold</th>\n",
       "      <td>int64</td>\n",
       "    </tr>\n",
       "    <tr>\n",
       "      <th>SaleType</th>\n",
       "      <td>object</td>\n",
       "    </tr>\n",
       "    <tr>\n",
       "      <th>SaleCondition</th>\n",
       "      <td>object</td>\n",
       "    </tr>\n",
       "    <tr>\n",
       "      <th>SalePrice</th>\n",
       "      <td>int64</td>\n",
       "    </tr>\n",
       "  </tbody>\n",
       "</table>\n",
       "<p>76 rows × 1 columns</p>\n",
       "</div>"
      ],
      "text/plain": [
       "                     0\n",
       "Id               int64\n",
       "MSSubClass       int64\n",
       "MSZoning        object\n",
       "LotFrontage    float64\n",
       "LotArea          int64\n",
       "...                ...\n",
       "MoSold           int64\n",
       "YrSold           int64\n",
       "SaleType        object\n",
       "SaleCondition   object\n",
       "SalePrice        int64\n",
       "\n",
       "[76 rows x 1 columns]"
      ]
     },
     "execution_count": 49,
     "metadata": {},
     "output_type": "execute_result"
    }
   ],
   "source": [
    "pd.DataFrame(data_missing_1.dtypes)"
   ]
  },
  {
   "cell_type": "code",
   "execution_count": 50,
   "id": "3f3248cb",
   "metadata": {
    "execution": {
     "iopub.execute_input": "2021-12-08T15:18:51.627712Z",
     "iopub.status.busy": "2021-12-08T15:18:51.626887Z",
     "iopub.status.idle": "2021-12-08T15:18:51.630025Z",
     "shell.execute_reply": "2021-12-08T15:18:51.630538Z",
     "shell.execute_reply.started": "2021-11-12T14:50:24.986413Z"
    },
    "papermill": {
     "duration": 0.091476,
     "end_time": "2021-12-08T15:18:51.630712",
     "exception": false,
     "start_time": "2021-12-08T15:18:51.539236",
     "status": "completed"
    },
    "tags": []
   },
   "outputs": [
    {
     "data": {
      "text/plain": [
       "Index(['MSZoning', 'Street', 'LotShape', 'LandContour', 'Utilities',\n",
       "       'LotConfig', 'LandSlope', 'Neighborhood', 'Condition1', 'Condition2',\n",
       "       'BldgType', 'HouseStyle', 'RoofStyle', 'RoofMatl', 'Exterior1st',\n",
       "       'Exterior2nd', 'MasVnrType', 'ExterQual', 'ExterCond', 'Foundation',\n",
       "       'BsmtQual', 'BsmtCond', 'BsmtExposure', 'BsmtFinType1', 'BsmtFinType2',\n",
       "       'Heating', 'HeatingQC', 'CentralAir', 'Electrical', 'KitchenQual',\n",
       "       'Functional', 'GarageType', 'GarageFinish', 'GarageQual', 'GarageCond',\n",
       "       'PavedDrive', 'SaleType', 'SaleCondition'],\n",
       "      dtype='object')"
      ]
     },
     "execution_count": 50,
     "metadata": {},
     "output_type": "execute_result"
    }
   ],
   "source": [
    "pd.DataFrame(data_missing_1.dtypes)[pd.DataFrame(data_missing_1.dtypes)[0] == 'object'].T.columns"
   ]
  },
  {
   "cell_type": "code",
   "execution_count": 51,
   "id": "501cf166",
   "metadata": {
    "execution": {
     "iopub.execute_input": "2021-12-08T15:18:51.791071Z",
     "iopub.status.busy": "2021-12-08T15:18:51.790011Z",
     "iopub.status.idle": "2021-12-08T15:18:51.827594Z",
     "shell.execute_reply": "2021-12-08T15:18:51.828151Z",
     "shell.execute_reply.started": "2021-11-12T14:50:25.004966Z"
    },
    "papermill": {
     "duration": 0.120555,
     "end_time": "2021-12-08T15:18:51.828329",
     "exception": false,
     "start_time": "2021-12-08T15:18:51.707774",
     "status": "completed"
    },
    "tags": []
   },
   "outputs": [],
   "source": [
    "data_missing_1 = pd.get_dummies(data_missing_1)"
   ]
  },
  {
   "cell_type": "code",
   "execution_count": 52,
   "id": "624676af",
   "metadata": {
    "execution": {
     "iopub.execute_input": "2021-12-08T15:18:51.987404Z",
     "iopub.status.busy": "2021-12-08T15:18:51.986389Z",
     "iopub.status.idle": "2021-12-08T15:18:51.995716Z",
     "shell.execute_reply": "2021-12-08T15:18:51.995167Z",
     "shell.execute_reply.started": "2021-11-12T14:50:25.049506Z"
    },
    "papermill": {
     "duration": 0.089,
     "end_time": "2021-12-08T15:18:51.995885",
     "exception": false,
     "start_time": "2021-12-08T15:18:51.906885",
     "status": "completed"
    },
    "tags": []
   },
   "outputs": [
    {
     "data": {
      "text/plain": [
       "Index([], dtype='object')"
      ]
     },
     "execution_count": 52,
     "metadata": {},
     "output_type": "execute_result"
    }
   ],
   "source": [
    "pd.DataFrame(data_missing_1.dtypes)[pd.DataFrame(data_missing_1.dtypes)[0] == 'object'].T.columns"
   ]
  },
  {
   "cell_type": "markdown",
   "id": "d398ff4d",
   "metadata": {
    "papermill": {
     "duration": 0.080064,
     "end_time": "2021-12-08T15:18:52.153303",
     "exception": false,
     "start_time": "2021-12-08T15:18:52.073239",
     "status": "completed"
    },
    "tags": []
   },
   "source": [
    "# Scaling - StandardScaler"
   ]
  },
  {
   "cell_type": "markdown",
   "id": "99f2fdcd",
   "metadata": {
    "papermill": {
     "duration": 0.076487,
     "end_time": "2021-12-08T15:18:52.307003",
     "exception": false,
     "start_time": "2021-12-08T15:18:52.230516",
     "status": "completed"
    },
    "tags": []
   },
   "source": [
    "**Encoding is applied to categorical variables, scaling is applied to continuous variables**"
   ]
  },
  {
   "cell_type": "code",
   "execution_count": 53,
   "id": "4a03d249",
   "metadata": {
    "execution": {
     "iopub.execute_input": "2021-12-08T15:18:52.466980Z",
     "iopub.status.busy": "2021-12-08T15:18:52.466299Z",
     "iopub.status.idle": "2021-12-08T15:18:52.500072Z",
     "shell.execute_reply": "2021-12-08T15:18:52.500593Z",
     "shell.execute_reply.started": "2021-11-12T14:50:25.060511Z"
    },
    "papermill": {
     "duration": 0.114535,
     "end_time": "2021-12-08T15:18:52.500769",
     "exception": false,
     "start_time": "2021-12-08T15:18:52.386234",
     "status": "completed"
    },
    "tags": []
   },
   "outputs": [
    {
     "data": {
      "text/plain": [
       "Id               1094\n",
       "LotArea           806\n",
       "GrLivArea         720\n",
       "BsmtUnfSF         677\n",
       "1stFlrSF          650\n",
       "TotalBsmtSF       621\n",
       "SalePrice         560\n",
       "BsmtFinSF1        523\n",
       "GarageArea        394\n",
       "2ndFlrSF          346\n",
       "MasVnrArea        279\n",
       "WoodDeckSF        221\n",
       "OpenPorchSF       176\n",
       "YearBuilt         109\n",
       "BsmtFinSF2        107\n",
       "LotFrontage       107\n",
       "EnclosedPorch      98\n",
       "GarageYrBlt        97\n",
       "ScreenPorch        63\n",
       "YearRemodAdd       61\n",
       "dtype: int64"
      ]
     },
     "execution_count": 53,
     "metadata": {},
     "output_type": "execute_result"
    }
   ],
   "source": [
    "data_missing_1.nunique().sort_values(ascending=False).head(20)"
   ]
  },
  {
   "cell_type": "code",
   "execution_count": 54,
   "id": "ec02dcda",
   "metadata": {
    "execution": {
     "iopub.execute_input": "2021-12-08T15:18:52.660967Z",
     "iopub.status.busy": "2021-12-08T15:18:52.660282Z",
     "iopub.status.idle": "2021-12-08T15:18:52.674535Z",
     "shell.execute_reply": "2021-12-08T15:18:52.673871Z",
     "shell.execute_reply.started": "2021-11-12T14:50:25.09679Z"
    },
    "papermill": {
     "duration": 0.095088,
     "end_time": "2021-12-08T15:18:52.674678",
     "exception": false,
     "start_time": "2021-12-08T15:18:52.579590",
     "status": "completed"
    },
    "tags": []
   },
   "outputs": [
    {
     "data": {
      "text/html": [
       "<div>\n",
       "<style scoped>\n",
       "    .dataframe tbody tr th:only-of-type {\n",
       "        vertical-align: middle;\n",
       "    }\n",
       "\n",
       "    .dataframe tbody tr th {\n",
       "        vertical-align: top;\n",
       "    }\n",
       "\n",
       "    .dataframe thead th {\n",
       "        text-align: right;\n",
       "    }\n",
       "</style>\n",
       "<table border=\"1\" class=\"dataframe\">\n",
       "  <thead>\n",
       "    <tr style=\"text-align: right;\">\n",
       "      <th></th>\n",
       "      <th>LotArea</th>\n",
       "      <th>GrLivArea</th>\n",
       "      <th>BsmtUnfSF</th>\n",
       "      <th>1stFlrSF</th>\n",
       "    </tr>\n",
       "  </thead>\n",
       "  <tbody>\n",
       "    <tr>\n",
       "      <th>0</th>\n",
       "      <td>8450</td>\n",
       "      <td>1710</td>\n",
       "      <td>150</td>\n",
       "      <td>856</td>\n",
       "    </tr>\n",
       "    <tr>\n",
       "      <th>1</th>\n",
       "      <td>9600</td>\n",
       "      <td>1262</td>\n",
       "      <td>284</td>\n",
       "      <td>1262</td>\n",
       "    </tr>\n",
       "    <tr>\n",
       "      <th>2</th>\n",
       "      <td>11250</td>\n",
       "      <td>1786</td>\n",
       "      <td>434</td>\n",
       "      <td>920</td>\n",
       "    </tr>\n",
       "    <tr>\n",
       "      <th>3</th>\n",
       "      <td>9550</td>\n",
       "      <td>1717</td>\n",
       "      <td>540</td>\n",
       "      <td>961</td>\n",
       "    </tr>\n",
       "    <tr>\n",
       "      <th>4</th>\n",
       "      <td>14260</td>\n",
       "      <td>2198</td>\n",
       "      <td>490</td>\n",
       "      <td>1145</td>\n",
       "    </tr>\n",
       "    <tr>\n",
       "      <th>...</th>\n",
       "      <td>...</td>\n",
       "      <td>...</td>\n",
       "      <td>...</td>\n",
       "      <td>...</td>\n",
       "    </tr>\n",
       "    <tr>\n",
       "      <th>1455</th>\n",
       "      <td>7917</td>\n",
       "      <td>1647</td>\n",
       "      <td>953</td>\n",
       "      <td>953</td>\n",
       "    </tr>\n",
       "    <tr>\n",
       "      <th>1456</th>\n",
       "      <td>13175</td>\n",
       "      <td>2073</td>\n",
       "      <td>589</td>\n",
       "      <td>2073</td>\n",
       "    </tr>\n",
       "    <tr>\n",
       "      <th>1457</th>\n",
       "      <td>9042</td>\n",
       "      <td>2340</td>\n",
       "      <td>877</td>\n",
       "      <td>1188</td>\n",
       "    </tr>\n",
       "    <tr>\n",
       "      <th>1458</th>\n",
       "      <td>9717</td>\n",
       "      <td>1078</td>\n",
       "      <td>0</td>\n",
       "      <td>1078</td>\n",
       "    </tr>\n",
       "    <tr>\n",
       "      <th>1459</th>\n",
       "      <td>9937</td>\n",
       "      <td>1256</td>\n",
       "      <td>136</td>\n",
       "      <td>1256</td>\n",
       "    </tr>\n",
       "  </tbody>\n",
       "</table>\n",
       "<p>1094 rows × 4 columns</p>\n",
       "</div>"
      ],
      "text/plain": [
       "      LotArea  GrLivArea  BsmtUnfSF  1stFlrSF\n",
       "0        8450       1710        150       856\n",
       "1        9600       1262        284      1262\n",
       "2       11250       1786        434       920\n",
       "3        9550       1717        540       961\n",
       "4       14260       2198        490      1145\n",
       "...       ...        ...        ...       ...\n",
       "1455     7917       1647        953       953\n",
       "1456    13175       2073        589      2073\n",
       "1457     9042       2340        877      1188\n",
       "1458     9717       1078          0      1078\n",
       "1459     9937       1256        136      1256\n",
       "\n",
       "[1094 rows x 4 columns]"
      ]
     },
     "execution_count": 54,
     "metadata": {},
     "output_type": "execute_result"
    }
   ],
   "source": [
    "data_missing_1[['LotArea', 'GrLivArea', 'BsmtUnfSF', '1stFlrSF']]"
   ]
  },
  {
   "cell_type": "code",
   "execution_count": 55,
   "id": "af8b1029",
   "metadata": {
    "execution": {
     "iopub.execute_input": "2021-12-08T15:18:52.840079Z",
     "iopub.status.busy": "2021-12-08T15:18:52.839313Z",
     "iopub.status.idle": "2021-12-08T15:18:52.846891Z",
     "shell.execute_reply": "2021-12-08T15:18:52.846297Z",
     "shell.execute_reply.started": "2021-11-12T14:50:25.113245Z"
    },
    "papermill": {
     "duration": 0.094305,
     "end_time": "2021-12-08T15:18:52.847063",
     "exception": false,
     "start_time": "2021-12-08T15:18:52.752758",
     "status": "completed"
    },
    "tags": []
   },
   "outputs": [],
   "source": [
    "ss = StandardScaler().fit(data_missing_1[['LotArea', 'GrLivArea', 'BsmtUnfSF', '1stFlrSF']])\n",
    "data_missing_1[['LotArea', 'GrLivArea', 'BsmtUnfSF', '1stFlrSF']] = ss.transform(data_missing_1[['LotArea', 'GrLivArea', 'BsmtUnfSF', '1stFlrSF']])"
   ]
  },
  {
   "cell_type": "code",
   "execution_count": 56,
   "id": "074bfafa",
   "metadata": {
    "execution": {
     "iopub.execute_input": "2021-12-08T15:18:53.009402Z",
     "iopub.status.busy": "2021-12-08T15:18:53.008721Z",
     "iopub.status.idle": "2021-12-08T15:18:53.023440Z",
     "shell.execute_reply": "2021-12-08T15:18:53.024025Z",
     "shell.execute_reply.started": "2021-11-12T14:50:25.126487Z"
    },
    "papermill": {
     "duration": 0.097665,
     "end_time": "2021-12-08T15:18:53.024214",
     "exception": false,
     "start_time": "2021-12-08T15:18:52.926549",
     "status": "completed"
    },
    "tags": []
   },
   "outputs": [
    {
     "data": {
      "text/html": [
       "<div>\n",
       "<style scoped>\n",
       "    .dataframe tbody tr th:only-of-type {\n",
       "        vertical-align: middle;\n",
       "    }\n",
       "\n",
       "    .dataframe tbody tr th {\n",
       "        vertical-align: top;\n",
       "    }\n",
       "\n",
       "    .dataframe thead th {\n",
       "        text-align: right;\n",
       "    }\n",
       "</style>\n",
       "<table border=\"1\" class=\"dataframe\">\n",
       "  <thead>\n",
       "    <tr style=\"text-align: right;\">\n",
       "      <th></th>\n",
       "      <th>LotArea</th>\n",
       "      <th>GrLivArea</th>\n",
       "      <th>BsmtUnfSF</th>\n",
       "      <th>1stFlrSF</th>\n",
       "    </tr>\n",
       "  </thead>\n",
       "  <tbody>\n",
       "    <tr>\n",
       "      <th>0</th>\n",
       "      <td>-0.204952</td>\n",
       "      <td>0.332721</td>\n",
       "      <td>-1.023531</td>\n",
       "      <td>-0.820154</td>\n",
       "    </tr>\n",
       "    <tr>\n",
       "      <th>1</th>\n",
       "      <td>-0.064853</td>\n",
       "      <td>-0.519179</td>\n",
       "      <td>-0.722834</td>\n",
       "      <td>0.227587</td>\n",
       "    </tr>\n",
       "    <tr>\n",
       "      <th>2</th>\n",
       "      <td>0.136158</td>\n",
       "      <td>0.477240</td>\n",
       "      <td>-0.386232</td>\n",
       "      <td>-0.654993</td>\n",
       "    </tr>\n",
       "    <tr>\n",
       "      <th>3</th>\n",
       "      <td>-0.070944</td>\n",
       "      <td>0.346032</td>\n",
       "      <td>-0.148367</td>\n",
       "      <td>-0.549186</td>\n",
       "    </tr>\n",
       "    <tr>\n",
       "      <th>4</th>\n",
       "      <td>0.502851</td>\n",
       "      <td>1.260683</td>\n",
       "      <td>-0.260568</td>\n",
       "      <td>-0.074348</td>\n",
       "    </tr>\n",
       "    <tr>\n",
       "      <th>...</th>\n",
       "      <td>...</td>\n",
       "      <td>...</td>\n",
       "      <td>...</td>\n",
       "      <td>...</td>\n",
       "    </tr>\n",
       "    <tr>\n",
       "      <th>1455</th>\n",
       "      <td>-0.269885</td>\n",
       "      <td>0.212923</td>\n",
       "      <td>0.778409</td>\n",
       "      <td>-0.569832</td>\n",
       "    </tr>\n",
       "    <tr>\n",
       "      <th>1456</th>\n",
       "      <td>0.370671</td>\n",
       "      <td>1.022988</td>\n",
       "      <td>-0.038411</td>\n",
       "      <td>2.320489</td>\n",
       "    </tr>\n",
       "    <tr>\n",
       "      <th>1457</th>\n",
       "      <td>-0.132831</td>\n",
       "      <td>1.530705</td>\n",
       "      <td>0.607864</td>\n",
       "      <td>0.036620</td>\n",
       "    </tr>\n",
       "    <tr>\n",
       "      <th>1458</th>\n",
       "      <td>-0.050600</td>\n",
       "      <td>-0.869066</td>\n",
       "      <td>-1.360133</td>\n",
       "      <td>-0.247251</td>\n",
       "    </tr>\n",
       "    <tr>\n",
       "      <th>1459</th>\n",
       "      <td>-0.023798</td>\n",
       "      <td>-0.530588</td>\n",
       "      <td>-1.054947</td>\n",
       "      <td>0.212103</td>\n",
       "    </tr>\n",
       "  </tbody>\n",
       "</table>\n",
       "<p>1094 rows × 4 columns</p>\n",
       "</div>"
      ],
      "text/plain": [
       "       LotArea  GrLivArea  BsmtUnfSF  1stFlrSF\n",
       "0    -0.204952   0.332721  -1.023531 -0.820154\n",
       "1    -0.064853  -0.519179  -0.722834  0.227587\n",
       "2     0.136158   0.477240  -0.386232 -0.654993\n",
       "3    -0.070944   0.346032  -0.148367 -0.549186\n",
       "4     0.502851   1.260683  -0.260568 -0.074348\n",
       "...        ...        ...        ...       ...\n",
       "1455 -0.269885   0.212923   0.778409 -0.569832\n",
       "1456  0.370671   1.022988  -0.038411  2.320489\n",
       "1457 -0.132831   1.530705   0.607864  0.036620\n",
       "1458 -0.050600  -0.869066  -1.360133 -0.247251\n",
       "1459 -0.023798  -0.530588  -1.054947  0.212103\n",
       "\n",
       "[1094 rows x 4 columns]"
      ]
     },
     "execution_count": 56,
     "metadata": {},
     "output_type": "execute_result"
    }
   ],
   "source": [
    "data_missing_1[['LotArea', 'GrLivArea', 'BsmtUnfSF', '1stFlrSF']]"
   ]
  },
  {
   "cell_type": "code",
   "execution_count": 57,
   "id": "b7d72b63",
   "metadata": {
    "execution": {
     "iopub.execute_input": "2021-12-08T15:18:53.186860Z",
     "iopub.status.busy": "2021-12-08T15:18:53.186201Z",
     "iopub.status.idle": "2021-12-08T15:18:53.190982Z",
     "shell.execute_reply": "2021-12-08T15:18:53.191551Z",
     "shell.execute_reply.started": "2021-11-12T14:50:25.145862Z"
    },
    "papermill": {
     "duration": 0.087949,
     "end_time": "2021-12-08T15:18:53.191710",
     "exception": false,
     "start_time": "2021-12-08T15:18:53.103761",
     "status": "completed"
    },
    "tags": []
   },
   "outputs": [
    {
     "data": {
      "text/plain": [
       "1.0004573519562239"
      ]
     },
     "execution_count": 57,
     "metadata": {},
     "output_type": "execute_result"
    }
   ],
   "source": [
    "data_missing_1.LotArea.std()"
   ]
  },
  {
   "cell_type": "markdown",
   "id": "b958a4ed",
   "metadata": {
    "papermill": {
     "duration": 0.078075,
     "end_time": "2021-12-08T15:18:53.348770",
     "exception": false,
     "start_time": "2021-12-08T15:18:53.270695",
     "status": "completed"
    },
    "tags": []
   },
   "source": [
    "**Processes the data so that the standard deviation == 1**"
   ]
  },
  {
   "cell_type": "markdown",
   "id": "a35a8d74",
   "metadata": {
    "papermill": {
     "duration": 0.07972,
     "end_time": "2021-12-08T15:18:53.507464",
     "exception": false,
     "start_time": "2021-12-08T15:18:53.427744",
     "status": "completed"
    },
    "tags": []
   },
   "source": [
    "## Scaling - MinMax"
   ]
  },
  {
   "cell_type": "code",
   "execution_count": 58,
   "id": "61269197",
   "metadata": {
    "execution": {
     "iopub.execute_input": "2021-12-08T15:18:53.668735Z",
     "iopub.status.busy": "2021-12-08T15:18:53.668085Z",
     "iopub.status.idle": "2021-12-08T15:18:53.682681Z",
     "shell.execute_reply": "2021-12-08T15:18:53.683256Z",
     "shell.execute_reply.started": "2021-11-12T14:50:25.152478Z"
    },
    "papermill": {
     "duration": 0.097028,
     "end_time": "2021-12-08T15:18:53.683435",
     "exception": false,
     "start_time": "2021-12-08T15:18:53.586407",
     "status": "completed"
    },
    "tags": []
   },
   "outputs": [
    {
     "data": {
      "text/plain": [
       "Id               1460\n",
       "LotArea          1073\n",
       "GrLivArea         861\n",
       "BsmtUnfSF         780\n",
       "1stFlrSF          753\n",
       "TotalBsmtSF       721\n",
       "SalePrice         663\n",
       "BsmtFinSF1        637\n",
       "GarageArea        441\n",
       "2ndFlrSF          417\n",
       "MasVnrArea        327\n",
       "WoodDeckSF        274\n",
       "OpenPorchSF       202\n",
       "BsmtFinSF2        144\n",
       "EnclosedPorch     120\n",
       "YearBuilt         112\n",
       "LotFrontage       110\n",
       "GarageYrBlt        97\n",
       "ScreenPorch        76\n",
       "YearRemodAdd       61\n",
       "dtype: int64"
      ]
     },
     "execution_count": 58,
     "metadata": {},
     "output_type": "execute_result"
    }
   ],
   "source": [
    "data_missing_2.nunique().sort_values(ascending=False).head(20)"
   ]
  },
  {
   "cell_type": "code",
   "execution_count": 59,
   "id": "e01b1f71",
   "metadata": {
    "execution": {
     "iopub.execute_input": "2021-12-08T15:18:53.844890Z",
     "iopub.status.busy": "2021-12-08T15:18:53.844257Z",
     "iopub.status.idle": "2021-12-08T15:18:53.857323Z",
     "shell.execute_reply": "2021-12-08T15:18:53.857943Z",
     "shell.execute_reply.started": "2021-11-12T14:50:25.174313Z"
    },
    "papermill": {
     "duration": 0.095583,
     "end_time": "2021-12-08T15:18:53.858137",
     "exception": false,
     "start_time": "2021-12-08T15:18:53.762554",
     "status": "completed"
    },
    "tags": []
   },
   "outputs": [
    {
     "data": {
      "text/html": [
       "<div>\n",
       "<style scoped>\n",
       "    .dataframe tbody tr th:only-of-type {\n",
       "        vertical-align: middle;\n",
       "    }\n",
       "\n",
       "    .dataframe tbody tr th {\n",
       "        vertical-align: top;\n",
       "    }\n",
       "\n",
       "    .dataframe thead th {\n",
       "        text-align: right;\n",
       "    }\n",
       "</style>\n",
       "<table border=\"1\" class=\"dataframe\">\n",
       "  <thead>\n",
       "    <tr style=\"text-align: right;\">\n",
       "      <th></th>\n",
       "      <th>LotArea</th>\n",
       "      <th>GrLivArea</th>\n",
       "      <th>BsmtUnfSF</th>\n",
       "      <th>1stFlrSF</th>\n",
       "    </tr>\n",
       "  </thead>\n",
       "  <tbody>\n",
       "    <tr>\n",
       "      <th>0</th>\n",
       "      <td>8450</td>\n",
       "      <td>1710</td>\n",
       "      <td>150</td>\n",
       "      <td>856</td>\n",
       "    </tr>\n",
       "    <tr>\n",
       "      <th>1</th>\n",
       "      <td>9600</td>\n",
       "      <td>1262</td>\n",
       "      <td>284</td>\n",
       "      <td>1262</td>\n",
       "    </tr>\n",
       "    <tr>\n",
       "      <th>2</th>\n",
       "      <td>11250</td>\n",
       "      <td>1786</td>\n",
       "      <td>434</td>\n",
       "      <td>920</td>\n",
       "    </tr>\n",
       "    <tr>\n",
       "      <th>3</th>\n",
       "      <td>9550</td>\n",
       "      <td>1717</td>\n",
       "      <td>540</td>\n",
       "      <td>961</td>\n",
       "    </tr>\n",
       "    <tr>\n",
       "      <th>4</th>\n",
       "      <td>14260</td>\n",
       "      <td>2198</td>\n",
       "      <td>490</td>\n",
       "      <td>1145</td>\n",
       "    </tr>\n",
       "    <tr>\n",
       "      <th>...</th>\n",
       "      <td>...</td>\n",
       "      <td>...</td>\n",
       "      <td>...</td>\n",
       "      <td>...</td>\n",
       "    </tr>\n",
       "    <tr>\n",
       "      <th>1455</th>\n",
       "      <td>7917</td>\n",
       "      <td>1647</td>\n",
       "      <td>953</td>\n",
       "      <td>953</td>\n",
       "    </tr>\n",
       "    <tr>\n",
       "      <th>1456</th>\n",
       "      <td>13175</td>\n",
       "      <td>2073</td>\n",
       "      <td>589</td>\n",
       "      <td>2073</td>\n",
       "    </tr>\n",
       "    <tr>\n",
       "      <th>1457</th>\n",
       "      <td>9042</td>\n",
       "      <td>2340</td>\n",
       "      <td>877</td>\n",
       "      <td>1188</td>\n",
       "    </tr>\n",
       "    <tr>\n",
       "      <th>1458</th>\n",
       "      <td>9717</td>\n",
       "      <td>1078</td>\n",
       "      <td>0</td>\n",
       "      <td>1078</td>\n",
       "    </tr>\n",
       "    <tr>\n",
       "      <th>1459</th>\n",
       "      <td>9937</td>\n",
       "      <td>1256</td>\n",
       "      <td>136</td>\n",
       "      <td>1256</td>\n",
       "    </tr>\n",
       "  </tbody>\n",
       "</table>\n",
       "<p>1460 rows × 4 columns</p>\n",
       "</div>"
      ],
      "text/plain": [
       "      LotArea  GrLivArea  BsmtUnfSF  1stFlrSF\n",
       "0        8450       1710        150       856\n",
       "1        9600       1262        284      1262\n",
       "2       11250       1786        434       920\n",
       "3        9550       1717        540       961\n",
       "4       14260       2198        490      1145\n",
       "...       ...        ...        ...       ...\n",
       "1455     7917       1647        953       953\n",
       "1456    13175       2073        589      2073\n",
       "1457     9042       2340        877      1188\n",
       "1458     9717       1078          0      1078\n",
       "1459     9937       1256        136      1256\n",
       "\n",
       "[1460 rows x 4 columns]"
      ]
     },
     "execution_count": 59,
     "metadata": {},
     "output_type": "execute_result"
    }
   ],
   "source": [
    "data_missing_2[['LotArea', 'GrLivArea', 'BsmtUnfSF', '1stFlrSF']]"
   ]
  },
  {
   "cell_type": "code",
   "execution_count": 60,
   "id": "0dd80a28",
   "metadata": {
    "execution": {
     "iopub.execute_input": "2021-12-08T15:18:54.022211Z",
     "iopub.status.busy": "2021-12-08T15:18:54.021536Z",
     "iopub.status.idle": "2021-12-08T15:18:54.031916Z",
     "shell.execute_reply": "2021-12-08T15:18:54.032452Z",
     "shell.execute_reply.started": "2021-11-12T14:50:25.189316Z"
    },
    "papermill": {
     "duration": 0.093801,
     "end_time": "2021-12-08T15:18:54.032642",
     "exception": false,
     "start_time": "2021-12-08T15:18:53.938841",
     "status": "completed"
    },
    "tags": []
   },
   "outputs": [],
   "source": [
    "MinMax = MinMaxScaler().fit(data_missing_2[['LotArea', 'GrLivArea', 'BsmtUnfSF', '1stFlrSF']])\n",
    "data_missing_2[['LotArea', 'GrLivArea', 'BsmtUnfSF', '1stFlrSF']] = MinMax.transform(data_missing_2[['LotArea', 'GrLivArea', 'BsmtUnfSF', '1stFlrSF']])"
   ]
  },
  {
   "cell_type": "code",
   "execution_count": 61,
   "id": "37e81e3e",
   "metadata": {
    "execution": {
     "iopub.execute_input": "2021-12-08T15:18:54.208828Z",
     "iopub.status.busy": "2021-12-08T15:18:54.199117Z",
     "iopub.status.idle": "2021-12-08T15:18:54.212926Z",
     "shell.execute_reply": "2021-12-08T15:18:54.212242Z",
     "shell.execute_reply.started": "2021-11-12T14:50:25.20109Z"
    },
    "papermill": {
     "duration": 0.098909,
     "end_time": "2021-12-08T15:18:54.213074",
     "exception": false,
     "start_time": "2021-12-08T15:18:54.114165",
     "status": "completed"
    },
    "tags": []
   },
   "outputs": [
    {
     "data": {
      "text/html": [
       "<div>\n",
       "<style scoped>\n",
       "    .dataframe tbody tr th:only-of-type {\n",
       "        vertical-align: middle;\n",
       "    }\n",
       "\n",
       "    .dataframe tbody tr th {\n",
       "        vertical-align: top;\n",
       "    }\n",
       "\n",
       "    .dataframe thead th {\n",
       "        text-align: right;\n",
       "    }\n",
       "</style>\n",
       "<table border=\"1\" class=\"dataframe\">\n",
       "  <thead>\n",
       "    <tr style=\"text-align: right;\">\n",
       "      <th></th>\n",
       "      <th>LotArea</th>\n",
       "      <th>GrLivArea</th>\n",
       "      <th>BsmtUnfSF</th>\n",
       "      <th>1stFlrSF</th>\n",
       "    </tr>\n",
       "  </thead>\n",
       "  <tbody>\n",
       "    <tr>\n",
       "      <th>0</th>\n",
       "      <td>0.033420</td>\n",
       "      <td>0.259231</td>\n",
       "      <td>0.064212</td>\n",
       "      <td>0.119780</td>\n",
       "    </tr>\n",
       "    <tr>\n",
       "      <th>1</th>\n",
       "      <td>0.038795</td>\n",
       "      <td>0.174830</td>\n",
       "      <td>0.121575</td>\n",
       "      <td>0.212942</td>\n",
       "    </tr>\n",
       "    <tr>\n",
       "      <th>2</th>\n",
       "      <td>0.046507</td>\n",
       "      <td>0.273549</td>\n",
       "      <td>0.185788</td>\n",
       "      <td>0.134465</td>\n",
       "    </tr>\n",
       "    <tr>\n",
       "      <th>3</th>\n",
       "      <td>0.038561</td>\n",
       "      <td>0.260550</td>\n",
       "      <td>0.231164</td>\n",
       "      <td>0.143873</td>\n",
       "    </tr>\n",
       "    <tr>\n",
       "      <th>4</th>\n",
       "      <td>0.060576</td>\n",
       "      <td>0.351168</td>\n",
       "      <td>0.209760</td>\n",
       "      <td>0.186095</td>\n",
       "    </tr>\n",
       "    <tr>\n",
       "      <th>...</th>\n",
       "      <td>...</td>\n",
       "      <td>...</td>\n",
       "      <td>...</td>\n",
       "      <td>...</td>\n",
       "    </tr>\n",
       "    <tr>\n",
       "      <th>1455</th>\n",
       "      <td>0.030929</td>\n",
       "      <td>0.247362</td>\n",
       "      <td>0.407962</td>\n",
       "      <td>0.142038</td>\n",
       "    </tr>\n",
       "    <tr>\n",
       "      <th>1456</th>\n",
       "      <td>0.055505</td>\n",
       "      <td>0.327619</td>\n",
       "      <td>0.252140</td>\n",
       "      <td>0.399036</td>\n",
       "    </tr>\n",
       "    <tr>\n",
       "      <th>1457</th>\n",
       "      <td>0.036187</td>\n",
       "      <td>0.377920</td>\n",
       "      <td>0.375428</td>\n",
       "      <td>0.195961</td>\n",
       "    </tr>\n",
       "    <tr>\n",
       "      <th>1458</th>\n",
       "      <td>0.039342</td>\n",
       "      <td>0.140166</td>\n",
       "      <td>0.000000</td>\n",
       "      <td>0.170721</td>\n",
       "    </tr>\n",
       "    <tr>\n",
       "      <th>1459</th>\n",
       "      <td>0.040370</td>\n",
       "      <td>0.173700</td>\n",
       "      <td>0.058219</td>\n",
       "      <td>0.211565</td>\n",
       "    </tr>\n",
       "  </tbody>\n",
       "</table>\n",
       "<p>1460 rows × 4 columns</p>\n",
       "</div>"
      ],
      "text/plain": [
       "       LotArea  GrLivArea  BsmtUnfSF  1stFlrSF\n",
       "0     0.033420   0.259231   0.064212  0.119780\n",
       "1     0.038795   0.174830   0.121575  0.212942\n",
       "2     0.046507   0.273549   0.185788  0.134465\n",
       "3     0.038561   0.260550   0.231164  0.143873\n",
       "4     0.060576   0.351168   0.209760  0.186095\n",
       "...        ...        ...        ...       ...\n",
       "1455  0.030929   0.247362   0.407962  0.142038\n",
       "1456  0.055505   0.327619   0.252140  0.399036\n",
       "1457  0.036187   0.377920   0.375428  0.195961\n",
       "1458  0.039342   0.140166   0.000000  0.170721\n",
       "1459  0.040370   0.173700   0.058219  0.211565\n",
       "\n",
       "[1460 rows x 4 columns]"
      ]
     },
     "execution_count": 61,
     "metadata": {},
     "output_type": "execute_result"
    }
   ],
   "source": [
    "data_missing_2[['LotArea', 'GrLivArea', 'BsmtUnfSF', '1stFlrSF']]"
   ]
  },
  {
   "cell_type": "code",
   "execution_count": 62,
   "id": "d69ffcfc",
   "metadata": {
    "execution": {
     "iopub.execute_input": "2021-12-08T15:18:54.377080Z",
     "iopub.status.busy": "2021-12-08T15:18:54.376425Z",
     "iopub.status.idle": "2021-12-08T15:18:54.397655Z",
     "shell.execute_reply": "2021-12-08T15:18:54.398225Z",
     "shell.execute_reply.started": "2021-11-12T14:50:25.225504Z"
    },
    "papermill": {
     "duration": 0.104843,
     "end_time": "2021-12-08T15:18:54.398417",
     "exception": false,
     "start_time": "2021-12-08T15:18:54.293574",
     "status": "completed"
    },
    "tags": []
   },
   "outputs": [
    {
     "data": {
      "text/html": [
       "<div>\n",
       "<style scoped>\n",
       "    .dataframe tbody tr th:only-of-type {\n",
       "        vertical-align: middle;\n",
       "    }\n",
       "\n",
       "    .dataframe tbody tr th {\n",
       "        vertical-align: top;\n",
       "    }\n",
       "\n",
       "    .dataframe thead th {\n",
       "        text-align: right;\n",
       "    }\n",
       "</style>\n",
       "<table border=\"1\" class=\"dataframe\">\n",
       "  <thead>\n",
       "    <tr style=\"text-align: right;\">\n",
       "      <th></th>\n",
       "      <th>min</th>\n",
       "      <th>max</th>\n",
       "    </tr>\n",
       "  </thead>\n",
       "  <tbody>\n",
       "    <tr>\n",
       "      <th>LotArea</th>\n",
       "      <td>0.0</td>\n",
       "      <td>1.0</td>\n",
       "    </tr>\n",
       "    <tr>\n",
       "      <th>GrLivArea</th>\n",
       "      <td>0.0</td>\n",
       "      <td>1.0</td>\n",
       "    </tr>\n",
       "    <tr>\n",
       "      <th>BsmtUnfSF</th>\n",
       "      <td>0.0</td>\n",
       "      <td>1.0</td>\n",
       "    </tr>\n",
       "    <tr>\n",
       "      <th>1stFlrSF</th>\n",
       "      <td>0.0</td>\n",
       "      <td>1.0</td>\n",
       "    </tr>\n",
       "  </tbody>\n",
       "</table>\n",
       "</div>"
      ],
      "text/plain": [
       "           min  max\n",
       "LotArea    0.0  1.0\n",
       "GrLivArea  0.0  1.0\n",
       "BsmtUnfSF  0.0  1.0\n",
       "1stFlrSF   0.0  1.0"
      ]
     },
     "execution_count": 62,
     "metadata": {},
     "output_type": "execute_result"
    }
   ],
   "source": [
    "data_missing_2[['LotArea', 'GrLivArea', 'BsmtUnfSF', '1stFlrSF']].describe().T[['min', 'max']]"
   ]
  },
  {
   "cell_type": "markdown",
   "id": "04a33d60",
   "metadata": {
    "papermill": {
     "duration": 0.082959,
     "end_time": "2021-12-08T15:18:54.563282",
     "exception": false,
     "start_time": "2021-12-08T15:18:54.480323",
     "status": "completed"
    },
    "tags": []
   },
   "source": [
    "**MIN and MAX values == 0 and 1**"
   ]
  }
 ],
 "metadata": {
  "kernelspec": {
   "display_name": "Python 3",
   "language": "python",
   "name": "python3"
  },
  "language_info": {
   "codemirror_mode": {
    "name": "ipython",
    "version": 3
   },
   "file_extension": ".py",
   "mimetype": "text/x-python",
   "name": "python",
   "nbconvert_exporter": "python",
   "pygments_lexer": "ipython3",
   "version": "3.7.10"
  },
  "papermill": {
   "default_parameters": {},
   "duration": 27.806878,
   "end_time": "2021-12-08T15:18:55.356112",
   "environment_variables": {},
   "exception": null,
   "input_path": "__notebook__.ipynb",
   "output_path": "__notebook__.ipynb",
   "parameters": {},
   "start_time": "2021-12-08T15:18:27.549234",
   "version": "2.3.3"
  }
 },
 "nbformat": 4,
 "nbformat_minor": 5
}
